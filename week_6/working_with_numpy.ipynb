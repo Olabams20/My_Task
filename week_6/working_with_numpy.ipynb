{
 "cells": [
  {
   "cell_type": "markdown",
   "id": "c0588176",
   "metadata": {},
   "source": [
    "**Creating Vectors**"
   ]
  },
  {
   "cell_type": "code",
   "execution_count": 5,
   "id": "2b155ffe",
   "metadata": {},
   "outputs": [
    {
     "name": "stdout",
     "output_type": "stream",
     "text": [
      "Row Vector: [10 20 30]\n",
      "Column Vector:\n",
      " [[10]\n",
      " [20]\n",
      " [30]]\n"
     ]
    }
   ],
   "source": [
    "# install numpy if not already installed\n",
    "# pip install numpy\n",
    "\n",
    "# importing numpy for numerical operations\n",
    "\n",
    "import numpy as np\n",
    "\n",
    "# A row vector (1D)\n",
    "v1 = np.array([10, 20, 30])\n",
    "print(\"Row Vector:\", v1)\n",
    "\n",
    "# A column vector (2D with shape 3x1)\n",
    "v2 = np.array([[10], [20], [30]])\n",
    "print(\"Column Vector:\\n\", v2)"
   ]
  },
  {
   "cell_type": "markdown",
   "id": "e673c055",
   "metadata": {},
   "source": [
    "**Vector Addition**"
   ]
  },
  {
   "cell_type": "code",
   "execution_count": null,
   "id": "006dc7d0",
   "metadata": {},
   "outputs": [
    {
     "name": "stdout",
     "output_type": "stream",
     "text": [
      "Vector a: [1 2 3]\n",
      "Vector b: [4 5 6]\n",
      "a + b: [5 7 9]\n"
     ]
    },
    {
     "ename": "NameError",
     "evalue": "name 'plt' is not defined",
     "output_type": "error",
     "traceback": [
      "\u001b[31m---------------------------------------------------------------------------\u001b[39m",
      "\u001b[31mNameError\u001b[39m                                 Traceback (most recent call last)",
      "\u001b[36mCell\u001b[39m\u001b[36m \u001b[39m\u001b[32mIn[10]\u001b[39m\u001b[32m, line 16\u001b[39m\n\u001b[32m     13\u001b[39m b_2d = np.array([\u001b[32m1\u001b[39m, \u001b[32m2\u001b[39m])\n\u001b[32m     14\u001b[39m sum_2d = a_2d + b_2d\n\u001b[32m---> \u001b[39m\u001b[32m16\u001b[39m \u001b[43mplt\u001b[49m.figure(figsize=(\u001b[32m8\u001b[39m, \u001b[32m6\u001b[39m))\n\u001b[32m     17\u001b[39m plt.quiver(\u001b[32m0\u001b[39m, \u001b[32m0\u001b[39m, a_2d[\u001b[32m0\u001b[39m], a_2d[\u001b[32m1\u001b[39m], angles=\u001b[33m'\u001b[39m\u001b[33mxy\u001b[39m\u001b[33m'\u001b[39m, scale_units=\u001b[33m'\u001b[39m\u001b[33mxy\u001b[39m\u001b[33m'\u001b[39m, scale=\u001b[32m1\u001b[39m, color=\u001b[33m'\u001b[39m\u001b[33mred\u001b[39m\u001b[33m'\u001b[39m, width=\u001b[32m0.005\u001b[39m)\n\u001b[32m     18\u001b[39m plt.quiver(\u001b[32m0\u001b[39m, \u001b[32m0\u001b[39m, b_2d[\u001b[32m0\u001b[39m], b_2d[\u001b[32m1\u001b[39m], angles=\u001b[33m'\u001b[39m\u001b[33mxy\u001b[39m\u001b[33m'\u001b[39m, scale_units=\u001b[33m'\u001b[39m\u001b[33mxy\u001b[39m\u001b[33m'\u001b[39m, scale=\u001b[32m1\u001b[39m, color=\u001b[33m'\u001b[39m\u001b[33mblue\u001b[39m\u001b[33m'\u001b[39m, width=\u001b[32m0.005\u001b[39m)\n",
      "\u001b[31mNameError\u001b[39m: name 'plt' is not defined"
     ]
    }
   ],
   "source": [
    "# Vector addition\n",
    "a = np.array([1, 2, 3])\n",
    "b = np.array([4, 5, 6])\n",
    "\n",
    "\n",
    "vector_sum = a + b\n",
    "print(f\"Vector a: {a}\")\n",
    "print(f\"Vector b: {b}\")\n",
    "print(f\"a + b: {vector_sum}\")\n",
    "\n",
    "# Geometric interpretation in 2D\n",
    "a_2d = np.array([2, 3])\n",
    "b_2d = np.array([1, 2])\n",
    "sum_2d = a_2d + b_2d\n",
    "\n",
    "plt.figure(figsize=(8, 6))\n",
    "plt.quiver(0, 0, a_2d[0], a_2d[1], angles='xy', scale_units='xy', scale=1, color='red', width=0.005)\n",
    "plt.quiver(0, 0, b_2d[0], b_2d[1], angles='xy', scale_units='xy', scale=1, color='blue', width=0.005)\n",
    "plt.quiver(0, 0, sum_2d[0], sum_2d[1], angles='xy', scale_units='xy', scale=1, color='green', width=0.005)\n",
    "plt.quiver(a_2d[0], a_2d[1], b_2d[0], b_2d[1], angles='xy', scale_units='xy', scale=1, color='blue', width=0.003, alpha=0.5)\n",
    "plt.xlim(-1, 4)\n",
    "plt.ylim(-1, 6)\n",
    "plt.grid(True)\n",
    "plt.title(\"Vector Addition: Parallelogram Rule\")\n",
    "plt.legend(['Vector a', 'Vector b', 'a + b'])\n",
    "plt.show()\n"
   ]
  }
 ],
 "metadata": {
  "kernelspec": {
   "display_name": "Python 3",
   "language": "python",
   "name": "python3"
  },
  "language_info": {
   "codemirror_mode": {
    "name": "ipython",
    "version": 3
   },
   "file_extension": ".py",
   "mimetype": "text/x-python",
   "name": "python",
   "nbconvert_exporter": "python",
   "pygments_lexer": "ipython3",
   "version": "3.13.7"
  }
 },
 "nbformat": 4,
 "nbformat_minor": 5
}
