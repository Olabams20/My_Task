{
 "cells": [
  {
   "cell_type": "markdown",
   "id": "e567edd8",
   "metadata": {},
   "source": [
    " **Understanding Numpy**"
   ]
  },
  {
   "cell_type": "code",
   "execution_count": null,
   "id": "bfdf0169",
   "metadata": {},
   "outputs": [
    {
     "name": "stdout",
     "output_type": "stream",
     "text": [
      "NumPy version: 2.3.2\n",
      "1D array: [1 2 3 4 5]\n",
      "2D array:\n",
      " [[1 2 3]\n",
      " [4 5 6]]\n",
      "3D array:\n",
      " [[[1 2]\n",
      "  [3 4]]\n",
      "\n",
      " [[5 6]\n",
      "  [7 8]]]\n"
     ]
    }
   ],
   "source": [
    "# import all neccsarry libraries\n",
    "\n",
    "import numpy as np\n",
    "# import matplotlib.pyplot as plt\n",
    "import time\n",
    "\n",
    "# Check NumPy version\n",
    "print(f\"NumPy version: {np.__version__}\")\n",
    "\n",
    "# Display settings for cleaner output\n",
    "np.set_printoptions(precision=3, suppress=True)\n",
    "\n",
    "## **Creating Numpy Arrays**\n",
    "\n",
    "# Creating arrays from Python lists\n",
    "# 1D array: A simple sequence of numbers\n",
    "arr1d = np.array([1, 2, 3, 4, 5])\n",
    "\n",
    "# 2D array: Think of this as a matrix or table with rows and columns\n",
    "arr2d = np.array([[1, 2, 3], \n",
    "                  [4, 5, 6]])\n",
    "\n",
    "# 3D array: Like a stack of 2D arrays - useful for images, time series, etc.\n",
    "arr3d = np.array([[[1, 2], [3, 4]], \n",
    "                  [[5, 6], [7, 8]]])\n",
    "\n",
    "print(\"1D array:\", arr1d)\n",
    "print(\"2D array:\\n\", arr2d)\n",
    "print(\"3D array:\\n\", arr3d)\n",
    "\n"
   ]
  },
  {
   "cell_type": "markdown",
   "id": "1832ba55",
   "metadata": {},
   "source": [
    "**Creating Special Arrays in Numpy**\n",
    "\n"
   ]
  },
  {
   "cell_type": "code",
   "execution_count": 10,
   "id": "d4134dd6",
   "metadata": {},
   "outputs": [
    {
     "name": "stdout",
     "output_type": "stream",
     "text": [
      "Zeros array (3x4):\n",
      " [[0. 0. 0. 0.]\n",
      " [0. 0. 0. 0.]\n",
      " [0. 0. 0. 0.]]\n",
      "Ones array shape: (2, 3, 4)\n",
      "Empty array (contains random values):\n",
      " [[0.25 0.5 ]\n",
      " [0.75 1.  ]]\n",
      "Range array: [0 2 4 6 8]\n",
      "Linspace array: [0.   0.25 0.5  0.75 1.  ]\n",
      "Logspace array: [  1.      3.162  10.     31.623 100.   ]\n",
      "Identity matrix:\n",
      " [[1. 0. 0. 0.]\n",
      " [0. 1. 0. 0.]\n",
      " [0. 0. 1. 0.]\n",
      " [0. 0. 0. 1.]]\n",
      "Diagonal matrix:\n",
      " [[1 0 0 0]\n",
      " [0 2 0 0]\n",
      " [0 0 3 0]\n",
      " [0 0 0 4]]\n",
      "Full array (filled with 7):\n",
      " [[7 7 7]\n",
      " [7 7 7]\n",
      " [7 7 7]]\n"
     ]
    }
   ],
   "source": [
    "# Creating arrays filled with zeros - useful for initializing arrays\n",
    "# Shape (3, 4) means 3 rows and 4 columns\n",
    "zeros = np.zeros((3, 4))          \n",
    "\n",
    "# Creating arrays filled with ones - often used as starting points\n",
    "ones = np.ones((2, 3, 4))         # 3D array: 2 layers, 3 rows, 4 columns\n",
    "\n",
    "# Empty array - faster than zeros/ones but contains random values\n",
    "# Use when you'll immediately fill the array with real data\n",
    "empty = np.empty((2, 2))          \n",
    "\n",
    "print(\"Zeros array (3x4):\\n\", zeros)\n",
    "print(\"Ones array shape:\", ones.shape)\n",
    "print(\"Empty array (contains random values):\\n\", empty)\n",
    "\n",
    "# Range arrays - like Python's range() but more powerful\n",
    "range_arr = np.arange(0, 10, 2)   # Start, stop, step: [0, 2, 4, 6, 8]\n",
    "print(\"Range array:\", range_arr)\n",
    "\n",
    "# Linearly spaced arrays - divide a range into equal parts\n",
    "# From 0 to 1 with exactly 5 points (including endpoints)\n",
    "linspace_arr = np.linspace(0, 1, 5)  \n",
    "print(\"Linspace array:\", linspace_arr)\n",
    "\n",
    "# Logarithmically spaced arrays - useful for scientific data\n",
    "# From 10^0 to 10^2 (1 to 100) with 5 points\n",
    "logspace_arr = np.logspace(0, 2, 5)  \n",
    "print(\"Logspace array:\", logspace_arr)\n",
    "\n",
    "# Identity matrix - diagonal of ones, zeros elsewhere\n",
    "# Essential for linear algebra operations\n",
    "identity = np.eye(4)              # 4x4 identity matrix\n",
    "\n",
    "# Diagonal matrix - put values on the diagonal\n",
    "diagonal = np.diag([1, 2, 3, 4])  \n",
    "\n",
    "# Array filled with a specific value\n",
    "full_arr = np.full((3, 3), 7)     # 3x3 array filled with 7\n",
    "\n",
    "print(\"Identity matrix:\\n\", identity)\n",
    "print(\"Diagonal matrix:\\n\", diagonal)\n",
    "print(\"Full array (filled with 7):\\n\", full_arr)"
   ]
  },
  {
   "cell_type": "markdown",
   "id": "0c1cce9f",
   "metadata": {},
   "source": [
    "**Numpy Data Types (dtypes)**"
   ]
  },
  {
   "cell_type": "code",
   "execution_count": 11,
   "id": "64afe10b",
   "metadata": {},
   "outputs": [
    {
     "name": "stdout",
     "output_type": "stream",
     "text": [
      "Integer array dtype: int32\n",
      "Float array dtype: float64\n",
      "Boolean array dtype: bool\n",
      "Converted array dtype: float32\n",
      "int32 uses 4 bytes per element\n",
      "float64 uses 8 bytes per element\n"
     ]
    }
   ],
   "source": [
    "# Explicit data types - control memory usage and precision\n",
    "int_arr = np.array([1, 2, 3], dtype=np.int32)       # 32-bit integers\n",
    "float_arr = np.array([1, 2, 3], dtype=np.float64)   # 64-bit floats (double precision)\n",
    "bool_arr = np.array([True, False, True], dtype=np.bool_)  # Boolean values\n",
    "\n",
    "# Type conversion - change dtype of existing array\n",
    "converted = int_arr.astype(np.float32)  # Convert to 32-bit float\n",
    "\n",
    "print(\"Integer array dtype:\", int_arr.dtype)\n",
    "print(\"Float array dtype:\", float_arr.dtype)\n",
    "print(\"Boolean array dtype:\", bool_arr.dtype)\n",
    "print(\"Converted array dtype:\", converted.dtype)\n",
    "\n",
    "# Memory usage comparison\n",
    "print(f\"int32 uses {int_arr.itemsize} bytes per element\")\n",
    "print(f\"float64 uses {float_arr.itemsize} bytes per element\")"
   ]
  },
  {
   "cell_type": "markdown",
   "id": "56f3fe04",
   "metadata": {},
   "source": [
    "** Array Properties & Attributes**"
   ]
  },
  {
   "cell_type": "code",
   "execution_count": 12,
   "id": "f722afea",
   "metadata": {},
   "outputs": [
    {
     "name": "stdout",
     "output_type": "stream",
     "text": [
      "Shape: (3, 4, 5)\n",
      "Size: 60\n",
      "Ndim: 3\n",
      "Dtype: float64\n",
      "Itemsize: 8\n",
      "Memory usage: 480 bytes\n",
      "Memory usage: 0.46875 KB\n"
     ]
    }
   ],
   "source": [
    "# Create a sample 3D array for demonstration\n",
    "# Think of this as 3 layers, each with 4 rows and 5 columns\n",
    "arr = np.random.randn(3, 4, 5)\n",
    "\n",
    "# Shape: The dimensions of the array (layers, rows, columns)\n",
    "print(\"Shape:\", arr.shape)           # Output: (3, 4, 5)\n",
    "\n",
    "# Size: Total number of elements (3 × 4 × 5 = 60)\n",
    "print(\"Size:\", arr.size)             \n",
    "\n",
    "# Ndim: Number of dimensions (3D in this case)\n",
    "print(\"Ndim:\", arr.ndim)             \n",
    "\n",
    "# Dtype: Data type of elements\n",
    "print(\"Dtype:\", arr.dtype)           # Usually float64 for random numbers\n",
    "\n",
    "# Itemsize: Memory size of each element in bytes\n",
    "print(\"Itemsize:\", arr.itemsize)     # 8 bytes for float64\n",
    "\n",
    "# Total memory usage in bytes\n",
    "print(\"Memory usage:\", arr.nbytes, \"bytes\")  # size × itemsize\n",
    "print(\"Memory usage:\", arr.nbytes / 1024, \"KB\")  # Convert to KB"
   ]
  },
  {
   "cell_type": "markdown",
   "id": "20aa7e53",
   "metadata": {},
   "source": [
    "**Array Indexing & Slicing**\n",
    "\n",
    "**Basic Indexing - Accessing Individual Elements**\n"
   ]
  },
  {
   "cell_type": "code",
   "execution_count": 14,
   "id": "62ebfdaa",
   "metadata": {},
   "outputs": [
    {
     "name": "stdout",
     "output_type": "stream",
     "text": [
      "First element: 10\n",
      "Last element: 50\n",
      "Slice [1:4]: [20 30 40]\n",
      "Every 2nd element: [10 30 50]\n",
      "Element at row 1, column 2: 7\n",
      "First row: [1 2 3 4]\n",
      "Second column: [ 2  6 10]\n",
      "Subarray (rows 1-2, cols 1-2):\n",
      " [[ 6  7]\n",
      " [10 11]]\n"
     ]
    }
   ],
   "source": [
    "# 1D array indexing - similar to Python lists\n",
    "arr1d = np.array([10, 20, 30, 40, 50])\n",
    "\n",
    "print(\"First element:\", arr1d[0])     # Index 0: 10\n",
    "print(\"Last element:\", arr1d[-1])     # Negative indexing: 50  \n",
    "print(\"Slice [1:4]:\", arr1d[1:4])     # Elements 1, 2, 3: [20, 30, 40]\n",
    "print(\"Every 2nd element:\", arr1d[::2])  # Step of 2: [10, 30, 50]\n",
    "\n",
    "# 2D array indexing - row and column access\n",
    "arr2d = np.array([[1, 2, 3, 4],\n",
    "                  [5, 6, 7, 8],\n",
    "                  [9, 10, 11, 12]])\n",
    "\n",
    "# Access specific element: [row, column]\n",
    "print(\"Element at row 1, column 2:\", arr2d[1, 2])        # 7\n",
    "\n",
    "# Access entire rows or columns\n",
    "print(\"First row:\", arr2d[0, :])               # All columns of row 0\n",
    "print(\"Second column:\", arr2d[:, 1])           # All rows of column 1\n",
    "\n",
    "# Subarray slicing: [row_start:row_end, col_start:col_end]\n",
    "print(\"Subarray (rows 1-2, cols 1-2):\\n\", arr2d[1:3, 1:3])"
   ]
  },
  {
   "cell_type": "markdown",
   "id": "bee7650e",
   "metadata": {},
   "source": [
    "**Advanced Indexing - Powerful Selection Methods**"
   ]
  },
  {
   "cell_type": "code",
   "execution_count": 15,
   "id": "78bc93f8",
   "metadata": {},
   "outputs": [
    {
     "name": "stdout",
     "output_type": "stream",
     "text": [
      "Fancy indexing: [10 30 50]\n",
      "Random order: [50 20 40 20]\n",
      "Original 2D array:\n",
      " [[ 0  1  2  3]\n",
      " [ 4  5  6  7]\n",
      " [ 8  9 10 11]]\n",
      "Elements at (0,1) and (2,3): [ 1 11]\n",
      "Selected rows:\n",
      " [[ 0  1  2  3]\n",
      " [ 8  9 10 11]]\n"
     ]
    }
   ],
   "source": [
    "# Fancy indexing - use arrays of indices to select elements\n",
    "arr = np.array([10, 20, 30, 40, 50])\n",
    "indices = np.array([0, 2, 4])  # Select elements at positions 0, 2, 4\n",
    "print(\"Fancy indexing:\", arr[indices])         # [10, 30, 50]\n",
    "\n",
    "# This is much more flexible than simple slicing\n",
    "random_indices = np.array([4, 1, 3, 1])  # Can repeat and reorder\n",
    "print(\"Random order:\", arr[random_indices])   # [50, 20, 40, 20]\n",
    "\n",
    "# 2D fancy indexing - select specific row/column combinations\n",
    "arr2d = np.arange(12).reshape(3, 4)  # 3x4 array: [[0,1,2,3], [4,5,6,7], [8,9,10,11]]\n",
    "print(\"Original 2D array:\\n\", arr2d)\n",
    "\n",
    "# Select elements at (row, col) pairs: (0,1) and (2,3)\n",
    "rows = np.array([0, 2])\n",
    "cols = np.array([1, 3])\n",
    "print(\"Elements at (0,1) and (2,3):\", arr2d[rows, cols])  # [1, 11]\n",
    "\n",
    "# Select entire rows using fancy indexing\n",
    "selected_rows = arr2d[[0, 2], :]  # Rows 0 and 2, all columns\n",
    "print(\"Selected rows:\\n\", selected_rows)"
   ]
  },
  {
   "cell_type": "markdown",
   "id": "870eda9f",
   "metadata": {},
   "source": [
    "**Array Reshaping & Manipulation**"
   ]
  },
  {
   "cell_type": "code",
   "execution_count": 16,
   "id": "e1d7ad28",
   "metadata": {},
   "outputs": [
    {
     "name": "stdout",
     "output_type": "stream",
     "text": [
      "Original 1D array: [ 0  1  2  3  4  5  6  7  8  9 10 11]\n",
      "Reshaped to 3x4:\n",
      " [[ 0  1  2  3]\n",
      " [ 4  5  6  7]\n",
      " [ 8  9 10 11]]\n",
      "Reshaped to 2x2x3:\n",
      " [[[ 0  1  2]\n",
      "  [ 3  4  5]]\n",
      "\n",
      " [[ 6  7  8]\n",
      "  [ 9 10 11]]]\n",
      "Auto-reshaped to 4x?:\n",
      " [[ 0  1  2]\n",
      " [ 3  4  5]\n",
      " [ 6  7  8]\n",
      " [ 9 10 11]]\n",
      "Flattened (copy): [1 2 3 4 5 6]\n",
      "Ravel (view if possible): [1 2 3 4 5 6]\n",
      "After modifying original:\n",
      "Flattened (unchanged): [1 2 3 4 5 6]\n",
      "Ravel (changed): [999   2   3   4   5   6]\n"
     ]
    }
   ],
   "source": [
    "# Start with a 1D array\n",
    "arr = np.arange(12)  # [0, 1, 2, 3, 4, 5, 6, 7, 8, 9, 10, 11]\n",
    "print(\"Original 1D array:\", arr)\n",
    "\n",
    "# Reshape to 2D: 3 rows × 4 columns\n",
    "reshaped_2d = arr.reshape(3, 4)\n",
    "print(\"Reshaped to 3x4:\\n\", reshaped_2d)\n",
    "\n",
    "# Reshape to 3D: 2 layers × 2 rows × 3 columns  \n",
    "reshaped_3d = arr.reshape(2, 2, 3)\n",
    "print(\"Reshaped to 2x2x3:\\n\", reshaped_3d)\n",
    "\n",
    "# Use -1 to let NumPy calculate one dimension automatically\n",
    "auto_reshape = arr.reshape(4, -1)  # 4 rows, NumPy calculates columns\n",
    "print(\"Auto-reshaped to 4x?:\\n\", auto_reshape)\n",
    "\n",
    "# Flattening - convert multi-dimensional array to 1D\n",
    "arr2d = np.array([[1, 2, 3], [4, 5, 6]])\n",
    "\n",
    "# flatten() always returns a copy\n",
    "flattened = arr2d.flatten()                 \n",
    "print(\"Flattened (copy):\", flattened)\n",
    "\n",
    "# ravel() returns a view if possible (faster, memory efficient)\n",
    "ravel = arr2d.ravel()                       \n",
    "print(\"Ravel (view if possible):\", ravel)\n",
    "\n",
    "# Demonstrate the difference\n",
    "arr2d[0, 0] = 999\n",
    "print(\"After modifying original:\")\n",
    "print(\"Flattened (unchanged):\", flattened)  # Copy is independent\n",
    "print(\"Ravel (changed):\", ravel)            # View reflects changes"
   ]
  },
  {
   "cell_type": "markdown",
   "id": "7f5c9027",
   "metadata": {},
   "source": [
    "**Transposing and Swapping Axes**\n"
   ]
  },
  {
   "cell_type": "code",
   "execution_count": 17,
   "id": "6b4de94c",
   "metadata": {},
   "outputs": [
    {
     "name": "stdout",
     "output_type": "stream",
     "text": [
      "Original shape: (2, 3)\n",
      "Original:\n",
      " [[1 2 3]\n",
      " [4 5 6]]\n",
      "Transposed shape: (3, 2)\n",
      "Transposed:\n",
      " [[1 4]\n",
      " [2 5]\n",
      " [3 6]]\n",
      "Transpose method:\n",
      " [[1 4]\n",
      " [2 5]\n",
      " [3 6]]\n",
      "Original 3D shape: (2, 3, 4)\n",
      "Transposed 3D shape: (4, 2, 3)\n",
      "Moveaxis result shape: (3, 4, 2)\n"
     ]
    }
   ],
   "source": [
    "# 2D transposition - flip rows and columns\n",
    "arr2d = np.array([[1, 2, 3], \n",
    "                  [4, 5, 6]])\n",
    "print(\"Original shape:\", arr2d.shape)      # (2, 3)\n",
    "print(\"Original:\\n\", arr2d)\n",
    "\n",
    "print(\"Transposed shape:\", arr2d.T.shape)   # (3, 2)\n",
    "print(\"Transposed:\\n\", arr2d.T)\n",
    "\n",
    "# Alternative transpose methods\n",
    "print(\"Transpose method:\\n\", arr2d.transpose())\n",
    "\n",
    "# Higher-dimensional transposition\n",
    "arr3d = np.arange(24).reshape(2, 3, 4)  # 2 layers, 3 rows, 4 columns\n",
    "print(\"Original 3D shape:\", arr3d.shape)\n",
    "\n",
    "# Specify new axis order: (axis0, axis1, axis2) → (axis2, axis0, axis1)\n",
    "transposed_3d = arr3d.transpose(2, 0, 1)\n",
    "print(\"Transposed 3D shape:\", transposed_3d.shape)  # (4, 2, 3)\n",
    "\n",
    "# moveaxis is another way to rearrange axes\n",
    "moved = np.moveaxis(arr3d, 0, -1)  # Move first axis to last position\n",
    "print(\"Moveaxis result shape:\", moved.shape)"
   ]
  },
  {
   "cell_type": "markdown",
   "id": "ec0d31f1",
   "metadata": {},
   "source": [
    "**Concatenating and Splitting Arrays**"
   ]
  },
  {
   "cell_type": "code",
   "execution_count": 19,
   "id": "801b728c",
   "metadata": {},
   "outputs": [
    {
     "name": "stdout",
     "output_type": "stream",
     "text": [
      "Original arrays:\n",
      "Array 1:\n",
      " [[1 2]\n",
      " [3 4]]\n",
      "Array 2:\n",
      " [[5 6]\n",
      " [7 8]]\n",
      "Concatenated vertically (axis=0):\n",
      " [[1 2]\n",
      " [3 4]\n",
      " [5 6]\n",
      " [7 8]]\n",
      "Concatenated horizontally (axis=1):\n",
      " [[1 2 5 6]\n",
      " [3 4 7 8]]\n",
      "vstack (vertical):\n",
      " [[1 2]\n",
      " [3 4]\n",
      " [5 6]\n",
      " [7 8]]\n",
      "hstack (horizontal):\n",
      " [[1 2 5 6]\n",
      " [3 4 7 8]]\n",
      "dstack shape: (2, 2, 2)\n",
      "Original array for splitting:\n",
      " [[ 0  1  2  3]\n",
      " [ 4  5  6  7]\n",
      " [ 8  9 10 11]]\n",
      "Split into 3 parts along rows:\n",
      "Part 0:\n",
      " [[0 1 2 3]]\n",
      "Part 1:\n",
      " [[4 5 6 7]]\n",
      "Part 2:\n",
      " [[ 8  9 10 11]]\n"
     ]
    }
   ],
   "source": [
    "# Concatenation - joining arrays along existing axes\n",
    "arr1 = np.array([[1, 2], [3, 4]])\n",
    "arr2 = np.array([[5, 6], [7, 8]])\n",
    "\n",
    "# Concatenate along different axes\n",
    "concat_rows = np.concatenate([arr1, arr2], axis=0)    # Stack vertically (add rows)\n",
    "concat_cols = np.concatenate([arr1, arr2], axis=1)    # Stack horizontally (add columns)\n",
    "\n",
    "print(\"Original arrays:\")\n",
    "print(\"Array 1:\\n\", arr1)\n",
    "print(\"Array 2:\\n\", arr2)\n",
    "print(\"Concatenated vertically (axis=0):\\n\", concat_rows)\n",
    "print(\"Concatenated horizontally (axis=1):\\n\", concat_cols)\n",
    "\n",
    "# Convenient stacking functions\n",
    "vstack_result = np.vstack([arr1, arr2])     # Same as concatenate with axis=0\n",
    "hstack_result = np.hstack([arr1, arr2])     # Same as concatenate with axis=1\n",
    "dstack_result = np.dstack([arr1, arr2])     # Stack along depth (3rd dimension)\n",
    "\n",
    "print(\"vstack (vertical):\\n\", vstack_result)\n",
    "print(\"hstack (horizontal):\\n\", hstack_result)\n",
    "print(\"dstack shape:\", dstack_result.shape)  # Creates 3D array\n",
    "\n",
    "# Splitting arrays - opposite of concatenation\n",
    "arr = np.arange(12).reshape(3, 4)\n",
    "split_arrays = np.split(arr, 3, axis=0)        # Split into 3 parts along rows\n",
    "print(\"Original array for splitting:\\n\", arr)\n",
    "print(\"Split into 3 parts along rows:\")\n",
    "for i, split_part in enumerate(split_arrays):\n",
    "    print(f\"Part {i}:\\n\", split_part)"
   ]
  },
  {
   "cell_type": "markdown",
   "id": "55d1b526",
   "metadata": {},
   "source": [
    "**Mathematical Operations**\n",
    "\n",
    "**Element-wise Operations - The Power of Vectorization**"
   ]
  },
  {
   "cell_type": "code",
   "execution_count": 21,
   "id": "d6516715",
   "metadata": {},
   "outputs": [
    {
     "name": "stdout",
     "output_type": "stream",
     "text": [
      "Array 1: [1 2 3 4]\n",
      "Array 2: [10 20 30 40]\n",
      "Addition: [11 22 33 44]\n",
      "Subtraction: [ 9 18 27 36]\n",
      "Multiplication: [ 10  40  90 160]\n",
      "Division: [10. 10. 10. 10.]\n",
      "Power: [ 1  4  9 16]\n",
      "Modulo: [1 2 0 1]\n",
      "Scalar operations:\n",
      "Add 10 to all elements: [11 12 13 14]\n",
      "Multiply all by 3: [ 3  6  9 12]\n",
      "Divide all by 2: [0.5 1.  1.5 2. ]\n",
      "Compound operation (arr1 + 5) * 2 - 1: [11 13 15 17]\n"
     ]
    }
   ],
   "source": [
    "# Basic arithmetic operations work element-by-element\n",
    "arr1 = np.array([1, 2, 3, 4])\n",
    "arr2 = np.array([10, 20, 30, 40])\n",
    "\n",
    "print(\"Array 1:\", arr1)\n",
    "print(\"Array 2:\", arr2)\n",
    "\n",
    "# All operations happen element-wise automatically\n",
    "print(\"Addition:\", arr1 + arr2)               # [11, 22, 33, 44]\n",
    "print(\"Subtraction:\", arr2 - arr1)            # [9, 18, 27, 36]\n",
    "print(\"Multiplication:\", arr1 * arr2)         # [10, 40, 90, 160]\n",
    "print(\"Division:\", arr2 / arr1)               # [10, 10, 10, 10]\n",
    "print(\"Power:\", arr1 ** 2)                    # [1, 4, 9, 16]\n",
    "print(\"Modulo:\", arr2 % 3)                    # [1, 2, 0, 1]\n",
    "\n",
    "#Operations with scalars - broadcasting in action\n",
    "print(\"Scalar operations:\")\n",
    "print(\"Add 10 to all elements:\", arr1 + 10)          # [11, 12, 13, 14]\n",
    "print(\"Multiply all by 3:\", arr1 * 3)               # [3, 6, 9, 12]\n",
    "print(\"Divide all by 2:\", arr1 / 2)                 # [0.5, 1, 1.5, 2]\n",
    "\n",
    "# Compound operations\n",
    "result = (arr1 + 5) * 2 - 1                         # ((arr1 + 5) * 2) - 1\n",
    "print(\"Compound operation (arr1 + 5) * 2 - 1:\", result)"
   ]
  },
  {
   "cell_type": "markdown",
   "id": "8762402a",
   "metadata": {},
   "source": [
    "**Mathematical Functions - Beyond Basic Arithmetic**"
   ]
  },
  {
   "cell_type": "code",
   "execution_count": 22,
   "id": "7a0eea69",
   "metadata": {},
   "outputs": [
    {
     "name": "stdout",
     "output_type": "stream",
     "text": [
      "Original array: [ 1  4  9 16 25]\n",
      "Square root: [1. 2. 3. 4. 5.]\n",
      "Square: [  1  16  81 256 625]\n",
      "Cube root: [1.    1.587 2.08  2.52  2.924]\n",
      "Exponential: [ 2.718  7.389 20.086]\n",
      "Natural log: [0.    1.386 2.197 2.773 3.219]\n",
      "Log base 10: [0.    0.602 0.954 1.204 1.398]\n",
      "Log base 2: [0.    2.    3.17  4.    4.644]\n",
      "Angles (radians): [0.    0.785 1.571 3.142]\n",
      "Sine: [0.    0.707 1.    0.   ]\n",
      "Cosine: [ 1.     0.707  0.    -1.   ]\n",
      "Tangent: [ 0.000e+00  1.000e+00  1.633e+16 -1.225e-16]\n",
      "Degrees to radians: [0.    0.785 1.571 3.142]\n",
      "Original decimals: [ 1.234  5.678  9.999 -2.345]\n",
      "Round to 2 places: [ 1.23  5.68 10.   -2.35]\n",
      "Floor (round down): [ 1.  5.  9. -3.]\n",
      "Ceiling (round up): [ 2.  6. 10. -2.]\n",
      "Truncate (toward zero): [ 1.  5.  9. -2.]\n",
      "Absolute values: [1.234 5.678 9.999 2.345]\n",
      "Sign (-1, 0, or 1): [ 1.  1.  1. -1.]\n"
     ]
    }
   ],
   "source": [
    "# Common mathematical functions\n",
    "arr = np.array([1, 4, 9, 16, 25])\n",
    "print(\"Original array:\", arr)\n",
    "\n",
    "# Square roots and powers\n",
    "print(\"Square root:\", np.sqrt(arr))           # [1, 2, 3, 4, 5]\n",
    "print(\"Square:\", np.square(arr))              # [1, 16, 81, 256, 625]\n",
    "print(\"Cube root:\", np.cbrt(arr))\n",
    "\n",
    "# Exponential and logarithmic functions\n",
    "small_arr = np.array([1, 2, 3])\n",
    "print(\"Exponential:\", np.exp(small_arr))      # [e^1, e^2, e^3]\n",
    "print(\"Natural log:\", np.log(arr))            # ln(arr)\n",
    "print(\"Log base 10:\", np.log10(arr))\n",
    "print(\"Log base 2:\", np.log2(arr))\n",
    "\n",
    "# Trigonometric functions - essential for signal processing and geometry\n",
    "angles = np.array([0, np.pi/4, np.pi/2, np.pi])\n",
    "print(\"Angles (radians):\", angles)\n",
    "print(\"Sine:\", np.sin(angles))                # [0, √2/2, 1, 0]\n",
    "print(\"Cosine:\", np.cos(angles))              # [1, √2/2, 0, -1]\n",
    "print(\"Tangent:\", np.tan(angles))             # [0, 1, ∞, 0]\n",
    "\n",
    "# Convert degrees to radians\n",
    "degrees = np.array([0, 45, 90, 180])\n",
    "radians = np.deg2rad(degrees)\n",
    "print(\"Degrees to radians:\", radians)\n",
    "\n",
    "# Rounding and comparison functions\n",
    "decimals = np.array([1.234, 5.678, 9.999, -2.345])\n",
    "print(\"Original decimals:\", decimals)\n",
    "\n",
    "print(\"Round to 2 places:\", np.round(decimals, 2))\n",
    "print(\"Floor (round down):\", np.floor(decimals))     # [1, 5, 9, -3]\n",
    "print(\"Ceiling (round up):\", np.ceil(decimals))      # [2, 6, 10, -2]\n",
    "print(\"Truncate (toward zero):\", np.trunc(decimals)) # [1, 5, 9, -2]\n",
    "\n",
    "# Absolute values and sign\n",
    "print(\"Absolute values:\", np.abs(decimals))\n",
    "print(\"Sign (-1, 0, or 1):\", np.sign(decimals))"
   ]
  },
  {
   "cell_type": "markdown",
   "id": "84a5eebe",
   "metadata": {},
   "source": [
    "**Aggregate Functions - Summarizing Your Data**"
   ]
  },
  {
   "cell_type": "code",
   "execution_count": 23,
   "id": "162cc57d",
   "metadata": {},
   "outputs": [
    {
     "name": "stdout",
     "output_type": "stream",
     "text": [
      "Sample array:\n",
      " [[1 2 3]\n",
      " [4 5 6]\n",
      " [7 8 9]]\n",
      "Sum of all elements: 45\n",
      "Mean of all elements: 5.0\n",
      "Standard deviation: 2.581988897471611\n",
      "Minimum value: 1\n",
      "Maximum value: 9\n",
      "Sum along axis 0 (columns): [12 15 18]\n",
      "Sum along axis 1 (rows): [ 6 15 24]\n",
      "Mean along axis 0: [4. 5. 6.]\n",
      "Mean along axis 1: [2. 5. 8.]\n",
      "Position of max (flattened): 8\n",
      "Position of max along axis 0: [2 2 2]\n",
      "Position of max along axis 1: [2 2 2]\n"
     ]
    }
   ],
   "source": [
    "# Create a 2D array for demonstration\n",
    "arr = np.array([[1, 2, 3], \n",
    "                [4, 5, 6], \n",
    "                [7, 8, 9]])\n",
    "print(\"Sample array:\\n\", arr)\n",
    "\n",
    "# Aggregation across entire array\n",
    "print(\"Sum of all elements:\", np.sum(arr))        # 45\n",
    "print(\"Mean of all elements:\", np.mean(arr))      # 5.0\n",
    "print(\"Standard deviation:\", np.std(arr))         # 2.58\n",
    "print(\"Minimum value:\", np.min(arr))              # 1\n",
    "print(\"Maximum value:\", np.max(arr))              # 9\n",
    "\n",
    "# Axis-specific aggregation - this is where NumPy shines!\n",
    "print(\"Sum along axis 0 (columns):\", np.sum(arr, axis=0))  # [12, 15, 18]\n",
    "print(\"Sum along axis 1 (rows):\", np.sum(arr, axis=1))     # [6, 15, 24]\n",
    "\n",
    "print(\"Mean along axis 0:\", np.mean(arr, axis=0))          # [4, 5, 6]\n",
    "print(\"Mean along axis 1:\", np.mean(arr, axis=1))          # [2, 5, 8]\n",
    "\n",
    "# Finding positions of extreme values\n",
    "print(\"Position of max (flattened):\", np.argmax(arr))      # 8 (element 9 at position 8)\n",
    "print(\"Position of max along axis 0:\", np.argmax(arr, axis=0))  # [2, 2, 2]\n",
    "print(\"Position of max along axis 1:\", np.argmax(arr, axis=1))  # [2, 2, 2]"
   ]
  },
  {
   "cell_type": "markdown",
   "id": "1bb1cda9",
   "metadata": {},
   "source": [
    "**Broadcasting**"
   ]
  },
  {
   "cell_type": "code",
   "execution_count": 24,
   "id": "af959fdd",
   "metadata": {},
   "outputs": [
    {
     "name": "stdout",
     "output_type": "stream",
     "text": [
      "Scalar: 5\n",
      "1D array: [1 2 3 4]\n",
      "2D array (column vector):\n",
      " [[10]\n",
      " [20]\n",
      " [30]]\n",
      "Scalar + 1D array: [6 7 8 9]\n",
      "2D + 1D broadcasting:\n",
      " [[11 12 13 14]\n",
      " [21 22 23 24]\n",
      " [31 32 33 34]]\n",
      "Array a (4x1):\n",
      " [[0]\n",
      " [1]\n",
      " [2]\n",
      " [3]]\n",
      "Array b (1x5):\n",
      " [[0 1 2 3 4]]\n",
      "Broadcasting result (4x5):\n",
      " [[0 1 2 3 4]\n",
      " [1 2 3 4 5]\n",
      " [2 3 4 5 6]\n",
      " [3 4 5 6 7]]\n",
      "Result shape: (4, 5)\n",
      "Original array shape: (3,)\n",
      "Column vector shape: (3, 1)\n",
      "Column vector:\n",
      " [[1]\n",
      " [2]\n",
      " [3]]\n",
      "Row vector shape: (1, 3)\n"
     ]
    }
   ],
   "source": [
    "# Broadcasting examples - arrays don't need the same shape!\n",
    "scalar = 5\n",
    "arr1d = np.array([1, 2, 3, 4])\n",
    "arr2d = np.array([[10], [20], [30]])  # Column vector\n",
    "\n",
    "print(\"Scalar:\", scalar)\n",
    "print(\"1D array:\", arr1d)  \n",
    "print(\"2D array (column vector):\\n\", arr2d)\n",
    "\n",
    "# Scalar broadcasts to any shape\n",
    "result1 = scalar + arr1d\n",
    "print(\"Scalar + 1D array:\", result1)         # [6, 7, 8, 9]\n",
    "\n",
    "# 2D + 1D broadcasting\n",
    "result2 = arr2d + arr1d\n",
    "print(\"2D + 1D broadcasting:\\n\", result2)\n",
    "\n",
    "# Visualizing broadcasting step by step\n",
    "a = np.arange(4).reshape(4, 1)                # Shape: (4, 1)\n",
    "b = np.arange(5).reshape(1, 5)                # Shape: (1, 5)\n",
    "\n",
    "print(\"Array a (4x1):\\n\", a)\n",
    "print(\"Array b (1x5):\\n\", b)\n",
    "\n",
    "# Broadcasting creates a 4x5 result\n",
    "result = a + b                                # Result shape: (4, 5)\n",
    "print(\"Broadcasting result (4x5):\\n\", result)\n",
    "print(\"Result shape:\", result.shape)\n",
    "\n",
    "# Manual broadcasting with newaxis\n",
    "arr = np.array([1, 2, 3])\n",
    "print(\"Original array shape:\", arr.shape)           # (3,)\n",
    "\n",
    "# Convert to column vector\n",
    "column_vector = arr[:, np.newaxis]                  # Same as arr.reshape(-1, 1)\n",
    "print(\"Column vector shape:\", column_vector.shape)   # (3, 1)\n",
    "print(\"Column vector:\\n\", column_vector)\n",
    "\n",
    "# Convert to row vector (usually not needed - 1D arrays broadcast as rows)\n",
    "row_vector = arr[np.newaxis, :]                     # Same as arr.reshape(1, -1)\n",
    "print(\"Row vector shape:\", row_vector.shape)        # (1, 3)"
   ]
  },
  {
   "cell_type": "markdown",
   "id": "ad1a200b",
   "metadata": {},
   "source": []
  },
  {
   "cell_type": "markdown",
   "id": "fac072cb",
   "metadata": {},
   "source": [
    "**Common Broadcasting Patterns**"
   ]
  },
  {
   "cell_type": "code",
   "execution_count": 25,
   "id": "3dd2c4be",
   "metadata": {},
   "outputs": [
    {
     "name": "stdout",
     "output_type": "stream",
     "text": [
      "Original data shape: (5, 3)\n",
      "Original data:\n",
      " [[-0.427 -0.749 -0.953]\n",
      " [-0.791  0.485 -1.055]\n",
      " [-0.937 -1.277  0.974]\n",
      " [-1.719  1.853 -0.974]\n",
      " [-1.564  0.627 -3.168]]\n",
      "Column means: [-1.087  0.188 -1.035]\n",
      "Centered data:\n",
      " [[ 0.661 -0.937  0.082]\n",
      " [ 0.297  0.297 -0.02 ]\n",
      " [ 0.151 -1.465  2.01 ]\n",
      " [-0.632  1.665  0.061]\n",
      " [-0.476  0.44  -2.133]]\n",
      "New column means (should be ~0): [0. 0. 0.]\n",
      "Random data:\n",
      " [[0.401 0.772 0.974]\n",
      " [0.803 0.379 0.54 ]\n",
      " [0.666 0.892 0.774]\n",
      " [0.554 0.521 0.516]]\n",
      "Row sums shape: (4, 1)\n",
      "Row sums:\n",
      " [[2.147]\n",
      " [1.722]\n",
      " [2.332]\n",
      " [1.59 ]]\n",
      "Normalized data (rows sum to 1):\n",
      " [[0.187 0.36  0.454]\n",
      " [0.466 0.22  0.314]\n",
      " [0.286 0.382 0.332]\n",
      " [0.348 0.327 0.324]]\n",
      "Row sums after normalization: [1. 1. 1. 1.]\n"
     ]
    }
   ],
   "source": [
    "# Pattern 1: Centering data (subtract mean from each column)\n",
    "data = np.random.randn(5, 3)  # 5 samples, 3 features\n",
    "print(\"Original data shape:\", data.shape)\n",
    "print(\"Original data:\\n\", data)\n",
    "\n",
    "# Calculate mean for each column\n",
    "column_means = np.mean(data, axis=0)              # Shape: (3,)\n",
    "print(\"Column means:\", column_means)\n",
    "\n",
    "# Subtract mean from each column (broadcasting!)\n",
    "centered_data = data - column_means              # (5,3) - (3,) broadcasts\n",
    "print(\"Centered data:\\n\", centered_data)\n",
    "print(\"New column means (should be ~0):\", np.mean(centered_data, axis=0))\n",
    "\n",
    "# Pattern 2: Normalizing by row sums (useful for probabilities)\n",
    "data = np.random.rand(4, 3)  # Random data\n",
    "print(\"Random data:\\n\", data)\n",
    "\n",
    "# Calculate row sums\n",
    "row_sums = np.sum(data, axis=1, keepdims=True)    # Shape: (4, 1)\n",
    "print(\"Row sums shape:\", row_sums.shape)\n",
    "print(\"Row sums:\\n\", row_sums)\n",
    "\n",
    "# Normalize each row to sum to 1\n",
    "normalized = data / row_sums                      # (4,3) / (4,1) broadcasts\n",
    "print(\"Normalized data (rows sum to 1):\\n\", normalized)\n",
    "print(\"Row sums after normalization:\", np.sum(normalized, axis=1))"
   ]
  }
 ],
 "metadata": {
  "kernelspec": {
   "display_name": "data_and_data_analysis",
   "language": "python",
   "name": "python3"
  },
  "language_info": {
   "codemirror_mode": {
    "name": "ipython",
    "version": 3
   },
   "file_extension": ".py",
   "mimetype": "text/x-python",
   "name": "python",
   "nbconvert_exporter": "python",
   "pygments_lexer": "ipython3",
   "version": "3.13.7"
  }
 },
 "nbformat": 4,
 "nbformat_minor": 5
}
