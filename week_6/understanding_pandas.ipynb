{
 "cells": [
  {
   "cell_type": "markdown",
   "id": "724207c8",
   "metadata": {},
   "source": [
    "***A. Creating Series and DataFrames***"
   ]
  },
  {
   "cell_type": "code",
   "execution_count": 99,
   "id": "9699f2e4",
   "metadata": {},
   "outputs": [
    {
     "data": {
      "text/plain": [
       "0     1\n",
       "1     2\n",
       "2     3\n",
       "3     4\n",
       "4     5\n",
       "5     6\n",
       "6     7\n",
       "7     8\n",
       "8     9\n",
       "9    10\n",
       "dtype: int64"
      ]
     },
     "execution_count": 99,
     "metadata": {},
     "output_type": "execute_result"
    }
   ],
   "source": [
    "# Lets create a pandas Series using a python list\n",
    "\n",
    "#Step 1: Import pandas package\n",
    "\n",
    "import pandas as pd\n",
    "\n",
    "#Step2: Define a list\n",
    "data = [1,2,3,4,5,6,7,8,9,10]\n",
    "\n",
    "\n",
    "#Step3: Create the series\n",
    "series = pd.Series(data)\n",
    "\n",
    "# lets view the series that we have created\n",
    "series.head(10)\n",
    "\n"
   ]
  },
  {
   "cell_type": "code",
   "execution_count": 32,
   "id": "6aa1ada6",
   "metadata": {},
   "outputs": [
    {
     "data": {
      "text/plain": [
       "pandas.core.series.Series"
      ]
     },
     "execution_count": 32,
     "metadata": {},
     "output_type": "execute_result"
    }
   ],
   "source": [
    "# lets confirm to be sure we had created a pandas series\n",
    "type(series)\n"
   ]
  },
  {
   "cell_type": "code",
   "execution_count": 33,
   "id": "5dc4c7ec",
   "metadata": {},
   "outputs": [
    {
     "data": {
      "text/plain": [
       "a     1\n",
       "b     2\n",
       "c     3\n",
       "d     4\n",
       "e     5\n",
       "f     6\n",
       "g     7\n",
       "h     8\n",
       "i     9\n",
       "j    10\n",
       "dtype: int64"
      ]
     },
     "execution_count": 33,
     "metadata": {},
     "output_type": "execute_result"
    }
   ],
   "source": [
    "# Lets create a series using the same list, but now we will be adding our own serial numbering, in python or pandas it is called index\n",
    "series2 = pd.Series(data, index = [\"a\",\"b\",\"c\",\"d\",\"e\",\"f\",\"g\",\"h\",\"i\",\"j\"])\n",
    "series2.head(10)"
   ]
  },
  {
   "cell_type": "code",
   "execution_count": 34,
   "id": "953656dc",
   "metadata": {},
   "outputs": [
    {
     "data": {
      "text/plain": [
       "a    10\n",
       "b    20\n",
       "c    30\n",
       "dtype: int64"
      ]
     },
     "execution_count": 34,
     "metadata": {},
     "output_type": "execute_result"
    }
   ],
   "source": [
    "# Lets create a series using python dictionary\n",
    "\n",
    "\n",
    "#lets create a python dictionary\n",
    "data2 = {'a': 10, 'b': 20, 'c': 30}\n",
    "\n",
    "# lets create the series\n",
    "series3 = pd.Series(data2)\n",
    "series3.head()"
   ]
  },
  {
   "cell_type": "markdown",
   "id": "6f3d1e74",
   "metadata": {},
   "source": [
    "**Creating a DataFrame**"
   ]
  },
  {
   "cell_type": "code",
   "execution_count": 35,
   "id": "683a2f82",
   "metadata": {},
   "outputs": [
    {
     "data": {
      "text/html": [
       "<div>\n",
       "<style scoped>\n",
       "    .dataframe tbody tr th:only-of-type {\n",
       "        vertical-align: middle;\n",
       "    }\n",
       "\n",
       "    .dataframe tbody tr th {\n",
       "        vertical-align: top;\n",
       "    }\n",
       "\n",
       "    .dataframe thead th {\n",
       "        text-align: right;\n",
       "    }\n",
       "</style>\n",
       "<table border=\"1\" class=\"dataframe\">\n",
       "  <thead>\n",
       "    <tr style=\"text-align: right;\">\n",
       "      <th></th>\n",
       "      <th>Name</th>\n",
       "      <th>Age</th>\n",
       "      <th>Home_Town</th>\n",
       "    </tr>\n",
       "  </thead>\n",
       "  <tbody>\n",
       "    <tr>\n",
       "      <th>0</th>\n",
       "      <td>Chris</td>\n",
       "      <td>26</td>\n",
       "      <td>Benin</td>\n",
       "    </tr>\n",
       "    <tr>\n",
       "      <th>1</th>\n",
       "      <td>Ayo</td>\n",
       "      <td>24</td>\n",
       "      <td>Ibadan</td>\n",
       "    </tr>\n",
       "    <tr>\n",
       "      <th>2</th>\n",
       "      <td>Chisom</td>\n",
       "      <td>22</td>\n",
       "      <td>Enugu</td>\n",
       "    </tr>\n",
       "  </tbody>\n",
       "</table>\n",
       "</div>"
      ],
      "text/plain": [
       "     Name  Age Home_Town\n",
       "0   Chris   26     Benin\n",
       "1     Ayo   24    Ibadan\n",
       "2  Chisom   22     Enugu"
      ]
     },
     "execution_count": 35,
     "metadata": {},
     "output_type": "execute_result"
    }
   ],
   "source": [
    "# LEts create a dataframe\n",
    "#Step1: import pandas\n",
    "\n",
    "import pandas as pd\n",
    "\n",
    "# Define the data using dictionary that is having its values as a list.\n",
    "\n",
    "data = {\n",
    "    'Name': ['Chris', 'Ayo', 'Chisom'],\n",
    "    'Age': [26, 24, 22],\n",
    "    'Home_Town': ['Benin', 'Ibadan', 'Enugu']\n",
    "}\n",
    "\n",
    "# Lets create the dataframe using \"df\" as short for dataframe\n",
    "df = pd.DataFrame(data)\n",
    "df.head()"
   ]
  },
  {
   "cell_type": "code",
   "execution_count": 36,
   "id": "446b639b",
   "metadata": {},
   "outputs": [
    {
     "data": {
      "text/html": [
       "<div>\n",
       "<style scoped>\n",
       "    .dataframe tbody tr th:only-of-type {\n",
       "        vertical-align: middle;\n",
       "    }\n",
       "\n",
       "    .dataframe tbody tr th {\n",
       "        vertical-align: top;\n",
       "    }\n",
       "\n",
       "    .dataframe thead th {\n",
       "        text-align: right;\n",
       "    }\n",
       "</style>\n",
       "<table border=\"1\" class=\"dataframe\">\n",
       "  <thead>\n",
       "    <tr style=\"text-align: right;\">\n",
       "      <th></th>\n",
       "      <th>Name</th>\n",
       "      <th>Age</th>\n",
       "      <th>Home_Town</th>\n",
       "    </tr>\n",
       "  </thead>\n",
       "  <tbody>\n",
       "    <tr>\n",
       "      <th>0</th>\n",
       "      <td>Chris</td>\n",
       "      <td>26</td>\n",
       "      <td>Benin</td>\n",
       "    </tr>\n",
       "    <tr>\n",
       "      <th>1</th>\n",
       "      <td>Ayo</td>\n",
       "      <td>24</td>\n",
       "      <td>Ibadan</td>\n",
       "    </tr>\n",
       "    <tr>\n",
       "      <th>2</th>\n",
       "      <td>Chisom</td>\n",
       "      <td>22</td>\n",
       "      <td>Enugu</td>\n",
       "    </tr>\n",
       "  </tbody>\n",
       "</table>\n",
       "</div>"
      ],
      "text/plain": [
       "     Name  Age Home_Town\n",
       "0   Chris   26     Benin\n",
       "1     Ayo   24    Ibadan\n",
       "2  Chisom   22     Enugu"
      ]
     },
     "execution_count": 36,
     "metadata": {},
     "output_type": "execute_result"
    }
   ],
   "source": [
    "# lets do the samething by using list of dictionaries\n",
    "data2 = [\n",
    "    {'Name': 'Chris', 'Age': 26, 'Home_Town': 'Benin'},\n",
    "    {'Name': 'Ayo', 'Age': 24, 'Home_Town': 'Ibadan'},\n",
    "    {'Name': 'Chisom', 'Age': 22, 'Home_Town': 'Enugu'}\n",
    "]\n",
    "# LEts define the dataframe\n",
    "df2 = pd.DataFrame(data2)\n",
    "df2.head()"
   ]
  },
  {
   "cell_type": "code",
   "execution_count": 37,
   "id": "6d07b484",
   "metadata": {},
   "outputs": [
    {
     "data": {
      "text/html": [
       "<div>\n",
       "<style scoped>\n",
       "    .dataframe tbody tr th:only-of-type {\n",
       "        vertical-align: middle;\n",
       "    }\n",
       "\n",
       "    .dataframe tbody tr th {\n",
       "        vertical-align: top;\n",
       "    }\n",
       "\n",
       "    .dataframe thead th {\n",
       "        text-align: right;\n",
       "    }\n",
       "</style>\n",
       "<table border=\"1\" class=\"dataframe\">\n",
       "  <thead>\n",
       "    <tr style=\"text-align: right;\">\n",
       "      <th></th>\n",
       "      <th>Name</th>\n",
       "      <th>Age</th>\n",
       "      <th>Home_Town</th>\n",
       "    </tr>\n",
       "  </thead>\n",
       "  <tbody>\n",
       "    <tr>\n",
       "      <th>0</th>\n",
       "      <td>Chris</td>\n",
       "      <td>26</td>\n",
       "      <td>Benin</td>\n",
       "    </tr>\n",
       "    <tr>\n",
       "      <th>1</th>\n",
       "      <td>Ayo</td>\n",
       "      <td>24</td>\n",
       "      <td>Ibadan</td>\n",
       "    </tr>\n",
       "    <tr>\n",
       "      <th>2</th>\n",
       "      <td>Chisom</td>\n",
       "      <td>22</td>\n",
       "      <td>Enugu</td>\n",
       "    </tr>\n",
       "  </tbody>\n",
       "</table>\n",
       "</div>"
      ],
      "text/plain": [
       "     Name  Age Home_Town\n",
       "0   Chris   26     Benin\n",
       "1     Ayo   24    Ibadan\n",
       "2  Chisom   22     Enugu"
      ]
     },
     "execution_count": 37,
     "metadata": {},
     "output_type": "execute_result"
    }
   ],
   "source": [
    "# Lets do the sanething again using list of list\n",
    "\n",
    "data3 = [\n",
    "    ['Chris', 26, 'Benin'],\n",
    "    ['Ayo', 24, 'Ibadan'],\n",
    "    ['Chisom', 22, 'Enugu']\n",
    "]\n",
    "df3 = pd.DataFrame(data3, columns=['Name', 'Age', 'Home_Town'])\n",
    "df3.head()"
   ]
  },
  {
   "cell_type": "code",
   "execution_count": 38,
   "id": "e308fcb4",
   "metadata": {},
   "outputs": [
    {
     "name": "stdout",
     "output_type": "stream",
     "text": [
      "<class 'pandas.core.frame.DataFrame'>\n",
      "<class 'pandas.core.frame.DataFrame'>\n",
      "<class 'pandas.core.frame.DataFrame'>\n"
     ]
    }
   ],
   "source": [
    "# lets print the types to be sure we have defined dataframes\n",
    "print(type(df))\n",
    "print(type(df2))\n",
    "print(type(df3))"
   ]
  },
  {
   "cell_type": "code",
   "execution_count": 110,
   "id": "25a7890c",
   "metadata": {},
   "outputs": [
    {
     "data": {
      "text/html": [
       "<div>\n",
       "<style scoped>\n",
       "    .dataframe tbody tr th:only-of-type {\n",
       "        vertical-align: middle;\n",
       "    }\n",
       "\n",
       "    .dataframe tbody tr th {\n",
       "        vertical-align: top;\n",
       "    }\n",
       "\n",
       "    .dataframe thead th {\n",
       "        text-align: right;\n",
       "    }\n",
       "</style>\n",
       "<table border=\"1\" class=\"dataframe\">\n",
       "  <thead>\n",
       "    <tr style=\"text-align: right;\">\n",
       "      <th></th>\n",
       "      <th>Timestamp</th>\n",
       "      <th>First Name</th>\n",
       "      <th>Last Name</th>\n",
       "      <th>Course Track</th>\n",
       "      <th>City</th>\n",
       "      <th>Gender</th>\n",
       "      <th>Seat Number</th>\n",
       "      <th>PC-Make</th>\n",
       "      <th>PC - OS</th>\n",
       "      <th>Feedback</th>\n",
       "    </tr>\n",
       "  </thead>\n",
       "  <tbody>\n",
       "    <tr>\n",
       "      <th>0</th>\n",
       "      <td>2025/09/11 12:55:34 PM GMT+1</td>\n",
       "      <td>Peter</td>\n",
       "      <td>Okonmah</td>\n",
       "      <td>AI</td>\n",
       "      <td>Ogun</td>\n",
       "      <td>Male</td>\n",
       "      <td>28</td>\n",
       "      <td>MACBOOK</td>\n",
       "      <td>Mac OS</td>\n",
       "      <td>non</td>\n",
       "    </tr>\n",
       "    <tr>\n",
       "      <th>1</th>\n",
       "      <td>2025/09/11 12:56:11 PM GMT+1</td>\n",
       "      <td>Toyeebat</td>\n",
       "      <td>Nababa</td>\n",
       "      <td>AI</td>\n",
       "      <td>Abeokuta</td>\n",
       "      <td>Female</td>\n",
       "      <td>24</td>\n",
       "      <td>HP</td>\n",
       "      <td>Windows</td>\n",
       "      <td>Excellent</td>\n",
       "    </tr>\n",
       "    <tr>\n",
       "      <th>2</th>\n",
       "      <td>2025/09/11 12:57:08 PM GMT+1</td>\n",
       "      <td>Perpetual</td>\n",
       "      <td>Meninwa</td>\n",
       "      <td>AI</td>\n",
       "      <td>Lagos</td>\n",
       "      <td>Female</td>\n",
       "      <td>22</td>\n",
       "      <td>HP</td>\n",
       "      <td>Windows</td>\n",
       "      <td>Thank you so much for the opportunity.</td>\n",
       "    </tr>\n",
       "    <tr>\n",
       "      <th>3</th>\n",
       "      <td>2025/09/11 12:57:56 PM GMT+1</td>\n",
       "      <td>Mahfuz</td>\n",
       "      <td>Abdulhameed</td>\n",
       "      <td>AI</td>\n",
       "      <td>Abeokuta</td>\n",
       "      <td>Male</td>\n",
       "      <td>44</td>\n",
       "      <td>HP</td>\n",
       "      <td>Windows</td>\n",
       "      <td>Amazing Shit</td>\n",
       "    </tr>\n",
       "    <tr>\n",
       "      <th>4</th>\n",
       "      <td>2025/09/11 12:58:41 PM GMT+1</td>\n",
       "      <td>Divine</td>\n",
       "      <td>Gbadamosi</td>\n",
       "      <td>AI</td>\n",
       "      <td>Abeokuta</td>\n",
       "      <td>Male</td>\n",
       "      <td>35</td>\n",
       "      <td>DELL</td>\n",
       "      <td>Windows</td>\n",
       "      <td>Brain Racking</td>\n",
       "    </tr>\n",
       "    <tr>\n",
       "      <th>5</th>\n",
       "      <td>2025/09/11 12:58:55 PM GMT+1</td>\n",
       "      <td>Abdulmalik</td>\n",
       "      <td>Adedotun</td>\n",
       "      <td>AI</td>\n",
       "      <td>Abeokuta</td>\n",
       "      <td>Male</td>\n",
       "      <td>200</td>\n",
       "      <td>HP</td>\n",
       "      <td>Windows</td>\n",
       "      <td>Enjoying the course so far</td>\n",
       "    </tr>\n",
       "    <tr>\n",
       "      <th>6</th>\n",
       "      <td>2025/09/11 12:58:55 PM GMT+1</td>\n",
       "      <td>Naheemot</td>\n",
       "      <td>Adebiyi</td>\n",
       "      <td>AI</td>\n",
       "      <td>Abeokuta</td>\n",
       "      <td>Female</td>\n",
       "      <td>32</td>\n",
       "      <td>DELL</td>\n",
       "      <td>Windows</td>\n",
       "      <td>Grateful for the opportunity to be here.</td>\n",
       "    </tr>\n",
       "    <tr>\n",
       "      <th>7</th>\n",
       "      <td>2025/09/11 12:59:00 PM GMT+1</td>\n",
       "      <td>Kanyisola</td>\n",
       "      <td>Fagbayi</td>\n",
       "      <td>AI;Data Science</td>\n",
       "      <td>Lagos</td>\n",
       "      <td>Female</td>\n",
       "      <td>00082</td>\n",
       "      <td>HP</td>\n",
       "      <td>Windows</td>\n",
       "      <td>One chin chin for you for this form</td>\n",
       "    </tr>\n",
       "    <tr>\n",
       "      <th>8</th>\n",
       "      <td>2025/09/11 12:59:16 PM GMT+1</td>\n",
       "      <td>Blessing</td>\n",
       "      <td>James</td>\n",
       "      <td>Cyber Security</td>\n",
       "      <td>Nairobi</td>\n",
       "      <td>Female</td>\n",
       "      <td>45678</td>\n",
       "      <td>HP</td>\n",
       "      <td>Windows</td>\n",
       "      <td>Thanks for creating the form.</td>\n",
       "    </tr>\n",
       "    <tr>\n",
       "      <th>9</th>\n",
       "      <td>2025/09/11 12:59:28 PM GMT+1</td>\n",
       "      <td>Hannah</td>\n",
       "      <td>Tanimola</td>\n",
       "      <td>AI</td>\n",
       "      <td>Abeokuta</td>\n",
       "      <td>Male</td>\n",
       "      <td>30</td>\n",
       "      <td>HP</td>\n",
       "      <td>Windows</td>\n",
       "      <td>On God</td>\n",
       "    </tr>\n",
       "    <tr>\n",
       "      <th>10</th>\n",
       "      <td>2025/09/11 12:59:41 PM GMT+1</td>\n",
       "      <td>Deborah</td>\n",
       "      <td>Adelegan</td>\n",
       "      <td>AI;Data Science</td>\n",
       "      <td>Abeokuta</td>\n",
       "      <td>Female</td>\n",
       "      <td>001</td>\n",
       "      <td>HP</td>\n",
       "      <td>Windows</td>\n",
       "      <td>None for now</td>\n",
       "    </tr>\n",
       "    <tr>\n",
       "      <th>11</th>\n",
       "      <td>2025/09/11 12:59:43 PM GMT+1</td>\n",
       "      <td>Esther</td>\n",
       "      <td>Kudoro</td>\n",
       "      <td>AI</td>\n",
       "      <td>Abeokuta</td>\n",
       "      <td>Female</td>\n",
       "      <td>1</td>\n",
       "      <td>HP</td>\n",
       "      <td>Windows</td>\n",
       "      <td>Chill</td>\n",
       "    </tr>\n",
       "    <tr>\n",
       "      <th>12</th>\n",
       "      <td>2025/09/11 1:00:03 PM GMT+1</td>\n",
       "      <td>Opeyemi</td>\n",
       "      <td>Odejimi</td>\n",
       "      <td>Cloud Computing</td>\n",
       "      <td>Abeokuta</td>\n",
       "      <td>Male</td>\n",
       "      <td>38</td>\n",
       "      <td>HP</td>\n",
       "      <td>Linux</td>\n",
       "      <td>Na wa</td>\n",
       "    </tr>\n",
       "    <tr>\n",
       "      <th>13</th>\n",
       "      <td>2025/09/11 1:00:13 PM GMT+1</td>\n",
       "      <td>Olasunkanmi</td>\n",
       "      <td>Rasak</td>\n",
       "      <td>AI</td>\n",
       "      <td>Kobape</td>\n",
       "      <td>Male</td>\n",
       "      <td>3</td>\n",
       "      <td>HP</td>\n",
       "      <td>Windows</td>\n",
       "      <td>My gratitude to the sponsor of this program an...</td>\n",
       "    </tr>\n",
       "    <tr>\n",
       "      <th>14</th>\n",
       "      <td>2025/09/11 1:00:27 PM GMT+1</td>\n",
       "      <td>Saheed</td>\n",
       "      <td>Olayinka</td>\n",
       "      <td>AI;Data Science;Web Dev</td>\n",
       "      <td>Abeokuta</td>\n",
       "      <td>Male</td>\n",
       "      <td>29</td>\n",
       "      <td>HP</td>\n",
       "      <td>Windows</td>\n",
       "      <td>None for now</td>\n",
       "    </tr>\n",
       "    <tr>\n",
       "      <th>15</th>\n",
       "      <td>2025/09/11 1:00:31 PM GMT+1</td>\n",
       "      <td>Kehinde</td>\n",
       "      <td>Akindele</td>\n",
       "      <td>Cloud Computing</td>\n",
       "      <td>Abeokuta</td>\n",
       "      <td>Male</td>\n",
       "      <td>54</td>\n",
       "      <td>Gateway</td>\n",
       "      <td>Windows</td>\n",
       "      <td>Great</td>\n",
       "    </tr>\n",
       "    <tr>\n",
       "      <th>16</th>\n",
       "      <td>2025/09/11 1:00:43 PM GMT+1</td>\n",
       "      <td>Oluwole</td>\n",
       "      <td>Oludayo</td>\n",
       "      <td>AI</td>\n",
       "      <td>Abeokuta</td>\n",
       "      <td>Male</td>\n",
       "      <td>09</td>\n",
       "      <td>HP</td>\n",
       "      <td>Windows</td>\n",
       "      <td>Good training to attend</td>\n",
       "    </tr>\n",
       "    <tr>\n",
       "      <th>17</th>\n",
       "      <td>2025/09/11 1:00:49 PM GMT+1</td>\n",
       "      <td>Samuel</td>\n",
       "      <td>Oyewusi</td>\n",
       "      <td>Web Dev</td>\n",
       "      <td>Lagos</td>\n",
       "      <td>Male</td>\n",
       "      <td>15</td>\n",
       "      <td>HP</td>\n",
       "      <td>Windows</td>\n",
       "      <td>Satisfactory</td>\n",
       "    </tr>\n",
       "    <tr>\n",
       "      <th>18</th>\n",
       "      <td>2025/09/11 1:00:54 PM GMT+1</td>\n",
       "      <td>Ademola</td>\n",
       "      <td>Akinrinde</td>\n",
       "      <td>AI</td>\n",
       "      <td>Abeokuta</td>\n",
       "      <td>Male</td>\n",
       "      <td>100</td>\n",
       "      <td>MACBOOK</td>\n",
       "      <td>Mac OS</td>\n",
       "      <td>Awesome shit\\n\\n</td>\n",
       "    </tr>\n",
       "    <tr>\n",
       "      <th>19</th>\n",
       "      <td>2025/09/11 1:01:31 PM GMT+1</td>\n",
       "      <td>Victor</td>\n",
       "      <td>Ademuyiwa</td>\n",
       "      <td>AI</td>\n",
       "      <td>kobape</td>\n",
       "      <td>Male</td>\n",
       "      <td>2</td>\n",
       "      <td>ASUS</td>\n",
       "      <td>Windows</td>\n",
       "      <td>Feels good</td>\n",
       "    </tr>\n",
       "    <tr>\n",
       "      <th>20</th>\n",
       "      <td>2025/09/11 1:01:44 PM GMT+1</td>\n",
       "      <td>Sherif</td>\n",
       "      <td>Okemakinde</td>\n",
       "      <td>AI</td>\n",
       "      <td>Abeokuta</td>\n",
       "      <td>Male</td>\n",
       "      <td>27</td>\n",
       "      <td>HP</td>\n",
       "      <td>Windows</td>\n",
       "      <td>Form filled</td>\n",
       "    </tr>\n",
       "    <tr>\n",
       "      <th>21</th>\n",
       "      <td>2025/09/11 1:01:46 PM GMT+1</td>\n",
       "      <td>Ayuba</td>\n",
       "      <td>Raji</td>\n",
       "      <td>AI</td>\n",
       "      <td>Abeokuta</td>\n",
       "      <td>Male</td>\n",
       "      <td>26</td>\n",
       "      <td>HP</td>\n",
       "      <td>Windows</td>\n",
       "      <td>None for now</td>\n",
       "    </tr>\n",
       "    <tr>\n",
       "      <th>22</th>\n",
       "      <td>2025/09/11 1:01:54 PM GMT+1</td>\n",
       "      <td>Hamid</td>\n",
       "      <td>Jimoh</td>\n",
       "      <td>AI</td>\n",
       "      <td>Ibadan</td>\n",
       "      <td>Male</td>\n",
       "      <td>299</td>\n",
       "      <td>DELL</td>\n",
       "      <td>Windows</td>\n",
       "      <td>I am curious</td>\n",
       "    </tr>\n",
       "    <tr>\n",
       "      <th>23</th>\n",
       "      <td>2025/09/11 1:02:28 PM GMT+1</td>\n",
       "      <td>Olajide</td>\n",
       "      <td>Abioye</td>\n",
       "      <td>AI</td>\n",
       "      <td>Abeokuta</td>\n",
       "      <td>Male</td>\n",
       "      <td>5</td>\n",
       "      <td>HP</td>\n",
       "      <td>Windows</td>\n",
       "      <td>So far, i getting to familarize myself with nu...</td>\n",
       "    </tr>\n",
       "    <tr>\n",
       "      <th>24</th>\n",
       "      <td>2025/09/11 1:02:49 PM GMT+1</td>\n",
       "      <td>Solomon</td>\n",
       "      <td>Olaiya</td>\n",
       "      <td>AI</td>\n",
       "      <td>Abeokuta</td>\n",
       "      <td>Male</td>\n",
       "      <td>16</td>\n",
       "      <td>MACBOOK</td>\n",
       "      <td>Mac OS</td>\n",
       "      <td>Delighted learning here</td>\n",
       "    </tr>\n",
       "    <tr>\n",
       "      <th>25</th>\n",
       "      <td>2025/09/11 1:02:56 PM GMT+1</td>\n",
       "      <td>Oluwadamilare</td>\n",
       "      <td>Bello</td>\n",
       "      <td>AI</td>\n",
       "      <td>Sango</td>\n",
       "      <td>Male</td>\n",
       "      <td>373</td>\n",
       "      <td>DELL;HP;LENOVO;MACBOOK;ASUS;</td>\n",
       "      <td>Mac OS</td>\n",
       "      <td>Coding is interesting when you understand</td>\n",
       "    </tr>\n",
       "    <tr>\n",
       "      <th>26</th>\n",
       "      <td>2025/09/11 1:02:59 PM GMT+1</td>\n",
       "      <td>Oluwaseyi</td>\n",
       "      <td>Egunjobi</td>\n",
       "      <td>Cloud Computing</td>\n",
       "      <td>Cape Town</td>\n",
       "      <td>Male</td>\n",
       "      <td>dirty</td>\n",
       "      <td>MACBOOK</td>\n",
       "      <td>Mac OS</td>\n",
       "      <td>Nice to meet you all</td>\n",
       "    </tr>\n",
       "    <tr>\n",
       "      <th>27</th>\n",
       "      <td>2025/09/11 1:03:12 PM GMT+1</td>\n",
       "      <td>Adeoye</td>\n",
       "      <td>Mary</td>\n",
       "      <td>AI</td>\n",
       "      <td>abeokuta</td>\n",
       "      <td>Female</td>\n",
       "      <td>15</td>\n",
       "      <td>LENOVO</td>\n",
       "      <td>Windows</td>\n",
       "      <td>Still processing</td>\n",
       "    </tr>\n",
       "    <tr>\n",
       "      <th>28</th>\n",
       "      <td>2025/09/11 1:03:36 PM GMT+1</td>\n",
       "      <td>Babatunde</td>\n",
       "      <td>Rahmon</td>\n",
       "      <td>AI</td>\n",
       "      <td>Abeokuta</td>\n",
       "      <td>Male</td>\n",
       "      <td>20</td>\n",
       "      <td>none</td>\n",
       "      <td>Windows</td>\n",
       "      <td>i actually have a pc that has a very low stora...</td>\n",
       "    </tr>\n",
       "    <tr>\n",
       "      <th>29</th>\n",
       "      <td>2025/09/11 1:06:03 PM GMT+1</td>\n",
       "      <td>Samuel</td>\n",
       "      <td>Dasaolu</td>\n",
       "      <td>AI</td>\n",
       "      <td>Abeokuta</td>\n",
       "      <td>Male</td>\n",
       "      <td>100</td>\n",
       "      <td>HP;MACBOOK</td>\n",
       "      <td>Linux</td>\n",
       "      <td>Good so far, i guess</td>\n",
       "    </tr>\n",
       "    <tr>\n",
       "      <th>30</th>\n",
       "      <td>2025/09/11 1:06:48 PM GMT+1</td>\n",
       "      <td>Gabriel</td>\n",
       "      <td>Bamgbose</td>\n",
       "      <td>AI</td>\n",
       "      <td>Abeokuta</td>\n",
       "      <td>Male</td>\n",
       "      <td>2</td>\n",
       "      <td>HP</td>\n",
       "      <td>Windows</td>\n",
       "      <td>Good</td>\n",
       "    </tr>\n",
       "    <tr>\n",
       "      <th>31</th>\n",
       "      <td>2025/09/11 1:10:16 PM GMT+1</td>\n",
       "      <td>Ridwanullah</td>\n",
       "      <td>Osho</td>\n",
       "      <td>AI;Cyber Security;Data Science</td>\n",
       "      <td>Abeokuta</td>\n",
       "      <td>Male</td>\n",
       "      <td>45</td>\n",
       "      <td>DELL</td>\n",
       "      <td>Windows</td>\n",
       "      <td>IT IS WHAT IT IS !!!</td>\n",
       "    </tr>\n",
       "    <tr>\n",
       "      <th>32</th>\n",
       "      <td>2025/09/11 1:11:39 PM GMT+1</td>\n",
       "      <td>Oluwapelumi</td>\n",
       "      <td>Adenuga</td>\n",
       "      <td>Web Dev</td>\n",
       "      <td>Abeokuta</td>\n",
       "      <td>Male</td>\n",
       "      <td>36</td>\n",
       "      <td>HP</td>\n",
       "      <td>Windows</td>\n",
       "      <td>live yours</td>\n",
       "    </tr>\n",
       "    <tr>\n",
       "      <th>33</th>\n",
       "      <td>2025/09/11 1:18:15 PM GMT+1</td>\n",
       "      <td>Michael</td>\n",
       "      <td>Osisami</td>\n",
       "      <td>AI</td>\n",
       "      <td>Abeokuta</td>\n",
       "      <td>Male</td>\n",
       "      <td>12</td>\n",
       "      <td>DELL;HP</td>\n",
       "      <td>Windows</td>\n",
       "      <td>Nil</td>\n",
       "    </tr>\n",
       "  </tbody>\n",
       "</table>\n",
       "</div>"
      ],
      "text/plain": [
       "                       Timestamp     First Name    Last Name  \\\n",
       "0   2025/09/11 12:55:34 PM GMT+1          Peter      Okonmah   \n",
       "1   2025/09/11 12:56:11 PM GMT+1       Toyeebat       Nababa   \n",
       "2   2025/09/11 12:57:08 PM GMT+1      Perpetual      Meninwa   \n",
       "3   2025/09/11 12:57:56 PM GMT+1         Mahfuz  Abdulhameed   \n",
       "4   2025/09/11 12:58:41 PM GMT+1         Divine    Gbadamosi   \n",
       "5   2025/09/11 12:58:55 PM GMT+1     Abdulmalik     Adedotun   \n",
       "6   2025/09/11 12:58:55 PM GMT+1       Naheemot      Adebiyi   \n",
       "7   2025/09/11 12:59:00 PM GMT+1      Kanyisola      Fagbayi   \n",
       "8   2025/09/11 12:59:16 PM GMT+1       Blessing        James   \n",
       "9   2025/09/11 12:59:28 PM GMT+1         Hannah     Tanimola   \n",
       "10  2025/09/11 12:59:41 PM GMT+1        Deborah     Adelegan   \n",
       "11  2025/09/11 12:59:43 PM GMT+1         Esther       Kudoro   \n",
       "12   2025/09/11 1:00:03 PM GMT+1        Opeyemi      Odejimi   \n",
       "13   2025/09/11 1:00:13 PM GMT+1    Olasunkanmi        Rasak   \n",
       "14   2025/09/11 1:00:27 PM GMT+1         Saheed     Olayinka   \n",
       "15   2025/09/11 1:00:31 PM GMT+1       Kehinde      Akindele   \n",
       "16   2025/09/11 1:00:43 PM GMT+1        Oluwole      Oludayo   \n",
       "17   2025/09/11 1:00:49 PM GMT+1         Samuel     Oyewusi    \n",
       "18   2025/09/11 1:00:54 PM GMT+1        Ademola    Akinrinde   \n",
       "19   2025/09/11 1:01:31 PM GMT+1         Victor    Ademuyiwa   \n",
       "20   2025/09/11 1:01:44 PM GMT+1         Sherif  Okemakinde    \n",
       "21   2025/09/11 1:01:46 PM GMT+1          Ayuba         Raji   \n",
       "22   2025/09/11 1:01:54 PM GMT+1          Hamid        Jimoh   \n",
       "23   2025/09/11 1:02:28 PM GMT+1        Olajide       Abioye   \n",
       "24   2025/09/11 1:02:49 PM GMT+1        Solomon       Olaiya   \n",
       "25   2025/09/11 1:02:56 PM GMT+1  Oluwadamilare        Bello   \n",
       "26   2025/09/11 1:02:59 PM GMT+1      Oluwaseyi     Egunjobi   \n",
       "27   2025/09/11 1:03:12 PM GMT+1         Adeoye         Mary   \n",
       "28   2025/09/11 1:03:36 PM GMT+1      Babatunde       Rahmon   \n",
       "29   2025/09/11 1:06:03 PM GMT+1         Samuel      Dasaolu   \n",
       "30   2025/09/11 1:06:48 PM GMT+1        Gabriel     Bamgbose   \n",
       "31   2025/09/11 1:10:16 PM GMT+1    Ridwanullah         Osho   \n",
       "32   2025/09/11 1:11:39 PM GMT+1    Oluwapelumi      Adenuga   \n",
       "33   2025/09/11 1:18:15 PM GMT+1        Michael      Osisami   \n",
       "\n",
       "                      Course Track       City  Gender Seat Number  \\\n",
       "0                               AI       Ogun    Male          28   \n",
       "1                               AI   Abeokuta  Female          24   \n",
       "2                               AI      Lagos  Female          22   \n",
       "3                               AI   Abeokuta    Male          44   \n",
       "4                               AI   Abeokuta    Male          35   \n",
       "5                               AI   Abeokuta    Male         200   \n",
       "6                               AI   Abeokuta  Female          32   \n",
       "7                  AI;Data Science      Lagos  Female       00082   \n",
       "8                   Cyber Security    Nairobi  Female       45678   \n",
       "9                               AI   Abeokuta    Male          30   \n",
       "10                 AI;Data Science   Abeokuta  Female         001   \n",
       "11                              AI   Abeokuta  Female           1   \n",
       "12                 Cloud Computing   Abeokuta    Male          38   \n",
       "13                              AI     Kobape    Male           3   \n",
       "14         AI;Data Science;Web Dev   Abeokuta    Male          29   \n",
       "15                 Cloud Computing   Abeokuta    Male          54   \n",
       "16                              AI   Abeokuta    Male          09   \n",
       "17                         Web Dev      Lagos    Male          15   \n",
       "18                              AI   Abeokuta    Male         100   \n",
       "19                              AI     kobape    Male           2   \n",
       "20                              AI  Abeokuta     Male          27   \n",
       "21                              AI   Abeokuta    Male          26   \n",
       "22                              AI     Ibadan    Male         299   \n",
       "23                              AI   Abeokuta    Male           5   \n",
       "24                              AI   Abeokuta    Male          16   \n",
       "25                              AI      Sango    Male         373   \n",
       "26                 Cloud Computing  Cape Town    Male       dirty   \n",
       "27                              AI   abeokuta  Female          15   \n",
       "28                              AI   Abeokuta    Male          20   \n",
       "29                              AI   Abeokuta    Male         100   \n",
       "30                              AI   Abeokuta    Male           2   \n",
       "31  AI;Cyber Security;Data Science   Abeokuta    Male          45   \n",
       "32                         Web Dev   Abeokuta    Male          36   \n",
       "33                              AI   Abeokuta    Male          12   \n",
       "\n",
       "                         PC-Make  PC - OS  \\\n",
       "0                        MACBOOK   Mac OS   \n",
       "1                             HP  Windows   \n",
       "2                             HP  Windows   \n",
       "3                             HP  Windows   \n",
       "4                           DELL  Windows   \n",
       "5                             HP  Windows   \n",
       "6                           DELL  Windows   \n",
       "7                             HP  Windows   \n",
       "8                             HP  Windows   \n",
       "9                             HP  Windows   \n",
       "10                            HP  Windows   \n",
       "11                            HP  Windows   \n",
       "12                            HP    Linux   \n",
       "13                            HP  Windows   \n",
       "14                            HP  Windows   \n",
       "15                       Gateway  Windows   \n",
       "16                            HP  Windows   \n",
       "17                            HP  Windows   \n",
       "18                       MACBOOK   Mac OS   \n",
       "19                          ASUS  Windows   \n",
       "20                            HP  Windows   \n",
       "21                            HP  Windows   \n",
       "22                          DELL  Windows   \n",
       "23                            HP  Windows   \n",
       "24                       MACBOOK   Mac OS   \n",
       "25  DELL;HP;LENOVO;MACBOOK;ASUS;   Mac OS   \n",
       "26                       MACBOOK   Mac OS   \n",
       "27                        LENOVO  Windows   \n",
       "28                          none  Windows   \n",
       "29                    HP;MACBOOK    Linux   \n",
       "30                            HP  Windows   \n",
       "31                          DELL  Windows   \n",
       "32                            HP  Windows   \n",
       "33                       DELL;HP  Windows   \n",
       "\n",
       "                                             Feedback  \n",
       "0                                                 non  \n",
       "1                                           Excellent  \n",
       "2              Thank you so much for the opportunity.  \n",
       "3                                        Amazing Shit  \n",
       "4                                       Brain Racking  \n",
       "5                          Enjoying the course so far  \n",
       "6            Grateful for the opportunity to be here.  \n",
       "7                 One chin chin for you for this form  \n",
       "8                       Thanks for creating the form.  \n",
       "9                                              On God  \n",
       "10                                       None for now  \n",
       "11                                              Chill  \n",
       "12                                              Na wa  \n",
       "13  My gratitude to the sponsor of this program an...  \n",
       "14                                       None for now  \n",
       "15                                              Great  \n",
       "16                            Good training to attend  \n",
       "17                                       Satisfactory  \n",
       "18                                   Awesome shit\\n\\n  \n",
       "19                                         Feels good  \n",
       "20                                        Form filled  \n",
       "21                                       None for now  \n",
       "22                                      I am curious   \n",
       "23  So far, i getting to familarize myself with nu...  \n",
       "24                            Delighted learning here  \n",
       "25          Coding is interesting when you understand  \n",
       "26                               Nice to meet you all  \n",
       "27                                   Still processing  \n",
       "28  i actually have a pc that has a very low stora...  \n",
       "29                               Good so far, i guess  \n",
       "30                                               Good  \n",
       "31                               IT IS WHAT IT IS !!!  \n",
       "32                                         live yours  \n",
       "33                                                Nil  "
      ]
     },
     "execution_count": 110,
     "metadata": {},
     "output_type": "execute_result"
    }
   ],
   "source": [
    "work = pd.read_csv(\"Untitled form.csv\")\n",
    "work\n",
    "\n"
   ]
  },
  {
   "cell_type": "markdown",
   "id": "5494d57a",
   "metadata": {},
   "source": [
    "***B. Data Input and Output***"
   ]
  },
  {
   "cell_type": "code",
   "execution_count": 39,
   "id": "9c5239bf",
   "metadata": {},
   "outputs": [],
   "source": [
    "# # Lets get to work...\n",
    "# df = pd.read_csv('bio_data.csv')\n",
    "# df.head()\n",
    "\n",
    "# # Ensure to code along..."
   ]
  },
  {
   "cell_type": "code",
   "execution_count": 40,
   "id": "39e433d6",
   "metadata": {},
   "outputs": [],
   "source": [
    "# LEts use all of this methods on our data\n",
    "\n",
    "\n",
    "\n",
    "# Please, ensure to code along"
   ]
  },
  {
   "cell_type": "markdown",
   "id": "0a69b262",
   "metadata": {},
   "source": [
    "***D. Data Cleaning***"
   ]
  },
  {
   "cell_type": "code",
   "execution_count": 41,
   "id": "4f6be6f2",
   "metadata": {},
   "outputs": [
    {
     "data": {
      "text/plain": [
       "Name         0\n",
       "Age          0\n",
       "Home_Town    0\n",
       "dtype: int64"
      ]
     },
     "execution_count": 41,
     "metadata": {},
     "output_type": "execute_result"
    }
   ],
   "source": [
    "# Do we have any missing values? if yes,lets fill them up\n",
    "\n",
    "df.isna().sum()\n",
    "\n",
    "# Ensure to code along"
   ]
  },
  {
   "cell_type": "markdown",
   "id": "a4563c88",
   "metadata": {},
   "source": [
    "***E. Data Selection and Filtering***"
   ]
  },
  {
   "cell_type": "markdown",
   "id": "d6b41605",
   "metadata": {},
   "source": [
    "Viewing data columm"
   ]
  },
  {
   "cell_type": "code",
   "execution_count": 42,
   "id": "4de13916",
   "metadata": {},
   "outputs": [],
   "source": [
    "#bio_data_column = [irst_Name, Last_Name, City, Course_Track, PC_make, PC_Os, Feedback]"
   ]
  },
  {
   "cell_type": "code",
   "execution_count": 43,
   "id": "152d3fce",
   "metadata": {},
   "outputs": [
    {
     "data": {
      "text/plain": [
       "Index(['Name', 'Age', 'Home_Town'], dtype='object')"
      ]
     },
     "execution_count": 43,
     "metadata": {},
     "output_type": "execute_result"
    }
   ],
   "source": [
    "df.columns"
   ]
  },
  {
   "cell_type": "markdown",
   "id": "576b6398",
   "metadata": {},
   "source": [
    "Column selection\n",
    "\n",
    "\n"
   ]
  },
  {
   "cell_type": "code",
   "execution_count": 44,
   "id": "20ac07b6",
   "metadata": {},
   "outputs": [
    {
     "data": {
      "text/plain": [
       "0     Chris\n",
       "1       Ayo\n",
       "2    Chisom\n",
       "Name: Name, dtype: object"
      ]
     },
     "execution_count": 44,
     "metadata": {},
     "output_type": "execute_result"
    }
   ],
   "source": [
    "# lets look through a single column\n",
    "df['Name']\n",
    "\n",
    "# alternatively, we can use dot\n",
    "df.Name"
   ]
  },
  {
   "cell_type": "code",
   "execution_count": 45,
   "id": "de63a002",
   "metadata": {},
   "outputs": [
    {
     "data": {
      "text/html": [
       "<div>\n",
       "<style scoped>\n",
       "    .dataframe tbody tr th:only-of-type {\n",
       "        vertical-align: middle;\n",
       "    }\n",
       "\n",
       "    .dataframe tbody tr th {\n",
       "        vertical-align: top;\n",
       "    }\n",
       "\n",
       "    .dataframe thead th {\n",
       "        text-align: right;\n",
       "    }\n",
       "</style>\n",
       "<table border=\"1\" class=\"dataframe\">\n",
       "  <thead>\n",
       "    <tr style=\"text-align: right;\">\n",
       "      <th></th>\n",
       "      <th>Name</th>\n",
       "      <th>Age</th>\n",
       "    </tr>\n",
       "  </thead>\n",
       "  <tbody>\n",
       "    <tr>\n",
       "      <th>0</th>\n",
       "      <td>Chris</td>\n",
       "      <td>26</td>\n",
       "    </tr>\n",
       "    <tr>\n",
       "      <th>1</th>\n",
       "      <td>Ayo</td>\n",
       "      <td>24</td>\n",
       "    </tr>\n",
       "    <tr>\n",
       "      <th>2</th>\n",
       "      <td>Chisom</td>\n",
       "      <td>22</td>\n",
       "    </tr>\n",
       "  </tbody>\n",
       "</table>\n",
       "</div>"
      ],
      "text/plain": [
       "     Name  Age\n",
       "0   Chris   26\n",
       "1     Ayo   24\n",
       "2  Chisom   22"
      ]
     },
     "execution_count": 45,
     "metadata": {},
     "output_type": "execute_result"
    }
   ],
   "source": [
    "# Lets select multiple columns (correct way is to use a list of column names)\n",
    "# Note: The current DataFrame 'df' only has columns: 'Name', 'Age', 'Home_Town'\n",
    "df[['Name', 'Age']]"
   ]
  },
  {
   "cell_type": "code",
   "execution_count": 46,
   "id": "76c02d78",
   "metadata": {},
   "outputs": [
    {
     "data": {
      "text/html": [
       "<div>\n",
       "<style scoped>\n",
       "    .dataframe tbody tr th:only-of-type {\n",
       "        vertical-align: middle;\n",
       "    }\n",
       "\n",
       "    .dataframe tbody tr th {\n",
       "        vertical-align: top;\n",
       "    }\n",
       "\n",
       "    .dataframe thead th {\n",
       "        text-align: right;\n",
       "    }\n",
       "</style>\n",
       "<table border=\"1\" class=\"dataframe\">\n",
       "  <thead>\n",
       "    <tr style=\"text-align: right;\">\n",
       "      <th></th>\n",
       "      <th>Name</th>\n",
       "      <th>Home_Town</th>\n",
       "    </tr>\n",
       "  </thead>\n",
       "  <tbody>\n",
       "    <tr>\n",
       "      <th>0</th>\n",
       "      <td>Chris</td>\n",
       "      <td>Benin</td>\n",
       "    </tr>\n",
       "    <tr>\n",
       "      <th>1</th>\n",
       "      <td>Ayo</td>\n",
       "      <td>Ibadan</td>\n",
       "    </tr>\n",
       "    <tr>\n",
       "      <th>2</th>\n",
       "      <td>Chisom</td>\n",
       "      <td>Enugu</td>\n",
       "    </tr>\n",
       "  </tbody>\n",
       "</table>\n",
       "</div>"
      ],
      "text/plain": [
       "     Name Home_Town\n",
       "0   Chris     Benin\n",
       "1     Ayo    Ibadan\n",
       "2  Chisom     Enugu"
      ]
     },
     "execution_count": 46,
     "metadata": {},
     "output_type": "execute_result"
    }
   ],
   "source": [
    "# lets select more columns\n",
    "df[['Name', 'Home_Town']]"
   ]
  },
  {
   "cell_type": "markdown",
   "id": "07660adf",
   "metadata": {},
   "source": [
    "Cell Selection"
   ]
  },
  {
   "cell_type": "code",
   "execution_count": 47,
   "id": "b92913c2",
   "metadata": {},
   "outputs": [
    {
     "data": {
      "text/plain": [
       "'Chris'"
      ]
     },
     "execution_count": 47,
     "metadata": {},
     "output_type": "execute_result"
    }
   ],
   "source": [
    "# lets select a single cell\n",
    "\n",
    "df['Name'][0] # This will return the first value of the \"Name\" column\n",
    "\n",
    "# lets try other methods for selecting cells\n",
    "df.at[0, \"Name\"] # This will also return the first value of the \"Name\" column\n",
    "\n",
    "# There is still another method using .iat[]\n",
    "df.iat[0, 0] # This will return the first value of the first column(row0,column0)\n"
   ]
  },
  {
   "cell_type": "markdown",
   "id": "0378ba76",
   "metadata": {},
   "source": [
    "Row selection"
   ]
  },
  {
   "cell_type": "code",
   "execution_count": 49,
   "id": "3c3870da",
   "metadata": {},
   "outputs": [
    {
     "data": {
      "text/html": [
       "<div>\n",
       "<style scoped>\n",
       "    .dataframe tbody tr th:only-of-type {\n",
       "        vertical-align: middle;\n",
       "    }\n",
       "\n",
       "    .dataframe tbody tr th {\n",
       "        vertical-align: top;\n",
       "    }\n",
       "\n",
       "    .dataframe thead th {\n",
       "        text-align: right;\n",
       "    }\n",
       "</style>\n",
       "<table border=\"1\" class=\"dataframe\">\n",
       "  <thead>\n",
       "    <tr style=\"text-align: right;\">\n",
       "      <th></th>\n",
       "      <th>Name</th>\n",
       "      <th>Age</th>\n",
       "      <th>Home_Town</th>\n",
       "    </tr>\n",
       "  </thead>\n",
       "  <tbody>\n",
       "    <tr>\n",
       "      <th>0</th>\n",
       "      <td>Chris</td>\n",
       "      <td>26</td>\n",
       "      <td>Benin</td>\n",
       "    </tr>\n",
       "    <tr>\n",
       "      <th>1</th>\n",
       "      <td>Ayo</td>\n",
       "      <td>24</td>\n",
       "      <td>Ibadan</td>\n",
       "    </tr>\n",
       "    <tr>\n",
       "      <th>2</th>\n",
       "      <td>Chisom</td>\n",
       "      <td>22</td>\n",
       "      <td>Enugu</td>\n",
       "    </tr>\n",
       "  </tbody>\n",
       "</table>\n",
       "</div>"
      ],
      "text/plain": [
       "     Name  Age Home_Town\n",
       "0   Chris   26     Benin\n",
       "1     Ayo   24    Ibadan\n",
       "2  Chisom   22     Enugu"
      ]
     },
     "execution_count": 49,
     "metadata": {},
     "output_type": "execute_result"
    }
   ],
   "source": [
    "# Lets select some rows\n",
    "df.iloc[0:5] # we are selecting from index 0 to the 5th index"
   ]
  },
  {
   "cell_type": "code",
   "execution_count": 111,
   "id": "2ccda1da",
   "metadata": {},
   "outputs": [
    {
     "data": {
      "text/html": [
       "<div>\n",
       "<style scoped>\n",
       "    .dataframe tbody tr th:only-of-type {\n",
       "        vertical-align: middle;\n",
       "    }\n",
       "\n",
       "    .dataframe tbody tr th {\n",
       "        vertical-align: top;\n",
       "    }\n",
       "\n",
       "    .dataframe thead th {\n",
       "        text-align: right;\n",
       "    }\n",
       "</style>\n",
       "<table border=\"1\" class=\"dataframe\">\n",
       "  <thead>\n",
       "    <tr style=\"text-align: right;\">\n",
       "      <th></th>\n",
       "      <th>City</th>\n",
       "      <th>CourseTrack</th>\n",
       "      <th>Name</th>\n",
       "    </tr>\n",
       "  </thead>\n",
       "  <tbody>\n",
       "    <tr>\n",
       "      <th>0</th>\n",
       "      <td>Lagos</td>\n",
       "      <td>Data Science</td>\n",
       "      <td>Chris</td>\n",
       "    </tr>\n",
       "    <tr>\n",
       "      <th>1</th>\n",
       "      <td>Abuja</td>\n",
       "      <td>AI</td>\n",
       "      <td>Ayo</td>\n",
       "    </tr>\n",
       "    <tr>\n",
       "      <th>2</th>\n",
       "      <td>Lagos</td>\n",
       "      <td>Web Dev</td>\n",
       "      <td>Chisom</td>\n",
       "    </tr>\n",
       "    <tr>\n",
       "      <th>3</th>\n",
       "      <td>Ibadan</td>\n",
       "      <td>Data Science</td>\n",
       "      <td>Tunde</td>\n",
       "    </tr>\n",
       "  </tbody>\n",
       "</table>\n",
       "</div>"
      ],
      "text/plain": [
       "     City   CourseTrack    Name\n",
       "0   Lagos  Data Science   Chris\n",
       "1   Abuja            AI     Ayo\n",
       "2   Lagos       Web Dev  Chisom\n",
       "3  Ibadan  Data Science   Tunde"
      ]
     },
     "execution_count": 111,
     "metadata": {},
     "output_type": "execute_result"
    }
   ],
   "source": [
    "# combination of row and column selection\n",
    "bio_data2.iloc[0:5, 0:3] # the first slice picks the rows and the second slice picks the columns"
   ]
  },
  {
   "cell_type": "markdown",
   "id": "2c427efa",
   "metadata": {},
   "source": [
    "**Hands on practice**\n"
   ]
  },
  {
   "cell_type": "markdown",
   "id": "946f08b3",
   "metadata": {},
   "source": [
    "Conditional Filtering"
   ]
  },
  {
   "cell_type": "code",
   "execution_count": 54,
   "id": "e287d156",
   "metadata": {},
   "outputs": [
    {
     "data": {
      "text/html": [
       "<div>\n",
       "<style scoped>\n",
       "    .dataframe tbody tr th:only-of-type {\n",
       "        vertical-align: middle;\n",
       "    }\n",
       "\n",
       "    .dataframe tbody tr th {\n",
       "        vertical-align: top;\n",
       "    }\n",
       "\n",
       "    .dataframe thead th {\n",
       "        text-align: right;\n",
       "    }\n",
       "</style>\n",
       "<table border=\"1\" class=\"dataframe\">\n",
       "  <thead>\n",
       "    <tr style=\"text-align: right;\">\n",
       "      <th></th>\n",
       "      <th>City</th>\n",
       "      <th>Course_Track</th>\n",
       "      <th>Name</th>\n",
       "    </tr>\n",
       "  </thead>\n",
       "  <tbody>\n",
       "    <tr>\n",
       "      <th>0</th>\n",
       "      <td>Lagos</td>\n",
       "      <td>Data Science</td>\n",
       "      <td>Chris</td>\n",
       "    </tr>\n",
       "    <tr>\n",
       "      <th>2</th>\n",
       "      <td>Lagos</td>\n",
       "      <td>Web Dev</td>\n",
       "      <td>Chisom</td>\n",
       "    </tr>\n",
       "  </tbody>\n",
       "</table>\n",
       "</div>"
      ],
      "text/plain": [
       "    City  Course_Track    Name\n",
       "0  Lagos  Data Science   Chris\n",
       "2  Lagos       Web Dev  Chisom"
      ]
     },
     "execution_count": 54,
     "metadata": {},
     "output_type": "execute_result"
    }
   ],
   "source": [
    "# Sample DataFrame with required columns to avoid errors\n",
    "import pandas as pd\n",
    "\n",
    "bio_data2 = pd.DataFrame({\n",
    "\t'City': ['Lagos', 'Abuja', 'Lagos', 'Ibadan'],\n",
    "\t'Course_Track': ['Data Science', 'AI', 'Web Dev', 'Data Science'],\n",
    "\t'Name': ['Chris', 'Ayo', 'Chisom', 'Tunde']\n",
    "})\n",
    "\n",
    "# Filter rows where City is 'Lagos'. This is going to return dataframe\n",
    "filtered_lagos = bio_data2[bio_data2['City'] == 'Lagos']\n",
    "filtered_lagos\n"
   ]
  },
  {
   "cell_type": "code",
   "execution_count": 55,
   "id": "3836791d",
   "metadata": {},
   "outputs": [
    {
     "name": "stdout",
     "output_type": "stream",
     "text": [
      "Rows where City is 'Lagos' and Course_Track is 'Data Science':\n"
     ]
    },
    {
     "data": {
      "text/html": [
       "<div>\n",
       "<style scoped>\n",
       "    .dataframe tbody tr th:only-of-type {\n",
       "        vertical-align: middle;\n",
       "    }\n",
       "\n",
       "    .dataframe tbody tr th {\n",
       "        vertical-align: top;\n",
       "    }\n",
       "\n",
       "    .dataframe thead th {\n",
       "        text-align: right;\n",
       "    }\n",
       "</style>\n",
       "<table border=\"1\" class=\"dataframe\">\n",
       "  <thead>\n",
       "    <tr style=\"text-align: right;\">\n",
       "      <th></th>\n",
       "      <th>City</th>\n",
       "      <th>Course_Track</th>\n",
       "      <th>Name</th>\n",
       "    </tr>\n",
       "  </thead>\n",
       "  <tbody>\n",
       "    <tr>\n",
       "      <th>0</th>\n",
       "      <td>Lagos</td>\n",
       "      <td>Data Science</td>\n",
       "      <td>Chris</td>\n",
       "    </tr>\n",
       "  </tbody>\n",
       "</table>\n",
       "</div>"
      ],
      "text/plain": [
       "    City  Course_Track   Name\n",
       "0  Lagos  Data Science  Chris"
      ]
     },
     "execution_count": 55,
     "metadata": {},
     "output_type": "execute_result"
    }
   ],
   "source": [
    "# Sample DataFrame with required columns to avoid errors\n",
    "import pandas as pd\n",
    "\n",
    "bio_data2 = pd.DataFrame({\n",
    "\t'City': ['Lagos', 'Abuja', 'Lagos', 'Ibadan'],\n",
    "\t'Course_Track': ['Data Science', 'AI', 'Web Dev', 'Data Science'],\n",
    "\t'Name': ['Chris', 'Ayo', 'Chisom', 'Tunde']\n",
    "})\n",
    "\n",
    "# Filter rows where City is 'Lagos' and Course_Track is 'Data Science'\n",
    "filtered_city = bio_data2[(bio_data2['City'] == 'Lagos') & (bio_data2['Course_Track'] == 'Data Science')]\n",
    "print(\"Rows where City is 'Lagos' and Course_Track is 'Data Science':\")\n",
    "filtered_city\n"
   ]
  },
  {
   "cell_type": "code",
   "execution_count": 56,
   "id": "2036b4d6",
   "metadata": {},
   "outputs": [
    {
     "name": "stdout",
     "output_type": "stream",
     "text": [
      "Rows where City is either 'Lagos' or 'Abuja':\n"
     ]
    },
    {
     "data": {
      "text/html": [
       "<div>\n",
       "<style scoped>\n",
       "    .dataframe tbody tr th:only-of-type {\n",
       "        vertical-align: middle;\n",
       "    }\n",
       "\n",
       "    .dataframe tbody tr th {\n",
       "        vertical-align: top;\n",
       "    }\n",
       "\n",
       "    .dataframe thead th {\n",
       "        text-align: right;\n",
       "    }\n",
       "</style>\n",
       "<table border=\"1\" class=\"dataframe\">\n",
       "  <thead>\n",
       "    <tr style=\"text-align: right;\">\n",
       "      <th></th>\n",
       "      <th>City</th>\n",
       "      <th>Course_Track</th>\n",
       "      <th>Name</th>\n",
       "    </tr>\n",
       "  </thead>\n",
       "  <tbody>\n",
       "    <tr>\n",
       "      <th>0</th>\n",
       "      <td>Lagos</td>\n",
       "      <td>Data Science</td>\n",
       "      <td>Chris</td>\n",
       "    </tr>\n",
       "    <tr>\n",
       "      <th>1</th>\n",
       "      <td>Abuja</td>\n",
       "      <td>AI</td>\n",
       "      <td>Ayo</td>\n",
       "    </tr>\n",
       "    <tr>\n",
       "      <th>2</th>\n",
       "      <td>Lagos</td>\n",
       "      <td>Web Dev</td>\n",
       "      <td>Chisom</td>\n",
       "    </tr>\n",
       "  </tbody>\n",
       "</table>\n",
       "</div>"
      ],
      "text/plain": [
       "    City  Course_Track    Name\n",
       "0  Lagos  Data Science   Chris\n",
       "1  Abuja            AI     Ayo\n",
       "2  Lagos       Web Dev  Chisom"
      ]
     },
     "execution_count": 56,
     "metadata": {},
     "output_type": "execute_result"
    }
   ],
   "source": [
    "# Filter rows where City is either 'Lagos' or 'Abuja'\n",
    "cities = ['Lagos', 'Abuja']\n",
    "city_filtered = bio_data2[bio_data2['City'].isin(cities)]\n",
    "print(\"Rows where City is either 'Lagos' or 'Abuja':\")\n",
    "city_filtered\n"
   ]
  },
  {
   "cell_type": "markdown",
   "id": "b92f5038",
   "metadata": {},
   "source": [
    "Using the .query() method"
   ]
  },
  {
   "cell_type": "code",
   "execution_count": 58,
   "id": "eb353b90",
   "metadata": {},
   "outputs": [
    {
     "name": "stdout",
     "output_type": "stream",
     "text": [
      "Rows filtered using query() method:\n"
     ]
    },
    {
     "data": {
      "text/html": [
       "<div>\n",
       "<style scoped>\n",
       "    .dataframe tbody tr th:only-of-type {\n",
       "        vertical-align: middle;\n",
       "    }\n",
       "\n",
       "    .dataframe tbody tr th {\n",
       "        vertical-align: top;\n",
       "    }\n",
       "\n",
       "    .dataframe thead th {\n",
       "        text-align: right;\n",
       "    }\n",
       "</style>\n",
       "<table border=\"1\" class=\"dataframe\">\n",
       "  <thead>\n",
       "    <tr style=\"text-align: right;\">\n",
       "      <th></th>\n",
       "      <th>City</th>\n",
       "      <th>Course_Track</th>\n",
       "      <th>Name</th>\n",
       "      <th>Feedback</th>\n",
       "    </tr>\n",
       "  </thead>\n",
       "  <tbody>\n",
       "    <tr>\n",
       "      <th>1</th>\n",
       "      <td>Abuja</td>\n",
       "      <td>AI</td>\n",
       "      <td>Ayo</td>\n",
       "      <td>Excellent</td>\n",
       "    </tr>\n",
       "  </tbody>\n",
       "</table>\n",
       "</div>"
      ],
      "text/plain": [
       "    City Course_Track Name   Feedback\n",
       "1  Abuja           AI  Ayo  Excellent"
      ]
     },
     "execution_count": 58,
     "metadata": {},
     "output_type": "execute_result"
    }
   ],
   "source": [
    "# Add a Feedback column to bio_data2 for demonstration\n",
    "bio_data2['Feedback'] = ['Good', 'Excellent', 'Poor', 'Average']\n",
    "\n",
    "# Use query() to filter rows where Course_Track is 'AI' and Feedback is 'Excellent'\n",
    "query_filtered = bio_data2.query(\"Course_Track == 'AI' and Feedback == 'Excellent'\")\n",
    "print(\"Rows filtered using query() method:\")\n",
    "query_filtered\n"
   ]
  },
  {
   "cell_type": "markdown",
   "id": "0b7315b4",
   "metadata": {},
   "source": [
    "Rows filtered using query() method:"
   ]
  },
  {
   "cell_type": "code",
   "execution_count": 59,
   "id": "85d24730",
   "metadata": {},
   "outputs": [
    {
     "name": "stdout",
     "output_type": "stream",
     "text": [
      "Students in the Data Science track:\n"
     ]
    },
    {
     "data": {
      "text/html": [
       "<div>\n",
       "<style scoped>\n",
       "    .dataframe tbody tr th:only-of-type {\n",
       "        vertical-align: middle;\n",
       "    }\n",
       "\n",
       "    .dataframe tbody tr th {\n",
       "        vertical-align: top;\n",
       "    }\n",
       "\n",
       "    .dataframe thead th {\n",
       "        text-align: right;\n",
       "    }\n",
       "</style>\n",
       "<table border=\"1\" class=\"dataframe\">\n",
       "  <thead>\n",
       "    <tr style=\"text-align: right;\">\n",
       "      <th></th>\n",
       "      <th>City</th>\n",
       "      <th>Course_Track</th>\n",
       "      <th>Name</th>\n",
       "      <th>Feedback</th>\n",
       "    </tr>\n",
       "  </thead>\n",
       "  <tbody>\n",
       "    <tr>\n",
       "      <th>0</th>\n",
       "      <td>Lagos</td>\n",
       "      <td>Data Science</td>\n",
       "      <td>Chris</td>\n",
       "      <td>Good</td>\n",
       "    </tr>\n",
       "    <tr>\n",
       "      <th>3</th>\n",
       "      <td>Ibadan</td>\n",
       "      <td>Data Science</td>\n",
       "      <td>Tunde</td>\n",
       "      <td>Average</td>\n",
       "    </tr>\n",
       "  </tbody>\n",
       "</table>\n",
       "</div>"
      ],
      "text/plain": [
       "     City  Course_Track   Name Feedback\n",
       "0   Lagos  Data Science  Chris     Good\n",
       "3  Ibadan  Data Science  Tunde  Average"
      ]
     },
     "execution_count": 59,
     "metadata": {},
     "output_type": "execute_result"
    }
   ],
   "source": [
    "# Filter rows where Course_Track is 'Data Science'\n",
    "data_science = bio_data2.query(\"Course_Track == 'Data Science'\")\n",
    "print(\"Students in the Data Science track:\")\n",
    "data_science\n"
   ]
  },
  {
   "cell_type": "markdown",
   "id": "6f8a4b1c",
   "metadata": {},
   "source": [
    "Students in the Data Science track:"
   ]
  },
  {
   "cell_type": "code",
   "execution_count": 61,
   "id": "62ae134b",
   "metadata": {},
   "outputs": [
    {
     "name": "stdout",
     "output_type": "stream",
     "text": [
      "Web Dev students with Seat_No greater than 110:\n"
     ]
    },
    {
     "data": {
      "text/html": [
       "<div>\n",
       "<style scoped>\n",
       "    .dataframe tbody tr th:only-of-type {\n",
       "        vertical-align: middle;\n",
       "    }\n",
       "\n",
       "    .dataframe tbody tr th {\n",
       "        vertical-align: top;\n",
       "    }\n",
       "\n",
       "    .dataframe thead th {\n",
       "        text-align: right;\n",
       "    }\n",
       "</style>\n",
       "<table border=\"1\" class=\"dataframe\">\n",
       "  <thead>\n",
       "    <tr style=\"text-align: right;\">\n",
       "      <th></th>\n",
       "      <th>City</th>\n",
       "      <th>Course_Track</th>\n",
       "      <th>Name</th>\n",
       "      <th>Feedback</th>\n",
       "      <th>Seat_No</th>\n",
       "    </tr>\n",
       "  </thead>\n",
       "  <tbody>\n",
       "    <tr>\n",
       "      <th>2</th>\n",
       "      <td>Lagos</td>\n",
       "      <td>Web Dev</td>\n",
       "      <td>Chisom</td>\n",
       "      <td>Poor</td>\n",
       "      <td>120</td>\n",
       "    </tr>\n",
       "  </tbody>\n",
       "</table>\n",
       "</div>"
      ],
      "text/plain": [
       "    City Course_Track    Name Feedback  Seat_No\n",
       "2  Lagos      Web Dev  Chisom     Poor      120"
      ]
     },
     "execution_count": 61,
     "metadata": {},
     "output_type": "execute_result"
    }
   ],
   "source": [
    "# Add a Seat_No column to bio_data2 for demonstration\n",
    "bio_data2['Seat_No'] = [111, 109, 120, 105]\n",
    "\n",
    "# Filter rows using multiple conditions with logical operators\n",
    "webdev_high_seat_No = bio_data2.query(\"Seat_No > 110 and Course_Track == 'Web Dev'\")\n",
    "print(\"Web Dev students with Seat_No greater than 110:\")\n",
    "webdev_high_seat_No\n"
   ]
  },
  {
   "cell_type": "markdown",
   "id": "c857eac6",
   "metadata": {},
   "source": [
    "Web Dev students with Seat_No greater than 110:"
   ]
  },
  {
   "cell_type": "code",
   "execution_count": 63,
   "id": "914e69e3",
   "metadata": {},
   "outputs": [
    {
     "name": "stdout",
     "output_type": "stream",
     "text": [
      "Rows where City is either Lagos or Abuja:\n"
     ]
    },
    {
     "data": {
      "text/html": [
       "<div>\n",
       "<style scoped>\n",
       "    .dataframe tbody tr th:only-of-type {\n",
       "        vertical-align: middle;\n",
       "    }\n",
       "\n",
       "    .dataframe tbody tr th {\n",
       "        vertical-align: top;\n",
       "    }\n",
       "\n",
       "    .dataframe thead th {\n",
       "        text-align: right;\n",
       "    }\n",
       "</style>\n",
       "<table border=\"1\" class=\"dataframe\">\n",
       "  <thead>\n",
       "    <tr style=\"text-align: right;\">\n",
       "      <th></th>\n",
       "      <th>City</th>\n",
       "      <th>Course_Track</th>\n",
       "      <th>Name</th>\n",
       "      <th>Feedback</th>\n",
       "      <th>Seat_No</th>\n",
       "    </tr>\n",
       "  </thead>\n",
       "  <tbody>\n",
       "    <tr>\n",
       "      <th>0</th>\n",
       "      <td>Lagos</td>\n",
       "      <td>Data Science</td>\n",
       "      <td>Chris</td>\n",
       "      <td>Good</td>\n",
       "      <td>111</td>\n",
       "    </tr>\n",
       "    <tr>\n",
       "      <th>1</th>\n",
       "      <td>Abuja</td>\n",
       "      <td>AI</td>\n",
       "      <td>Ayo</td>\n",
       "      <td>Excellent</td>\n",
       "      <td>109</td>\n",
       "    </tr>\n",
       "    <tr>\n",
       "      <th>2</th>\n",
       "      <td>Lagos</td>\n",
       "      <td>Web Dev</td>\n",
       "      <td>Chisom</td>\n",
       "      <td>Poor</td>\n",
       "      <td>120</td>\n",
       "    </tr>\n",
       "  </tbody>\n",
       "</table>\n",
       "</div>"
      ],
      "text/plain": [
       "    City  Course_Track    Name   Feedback  Seat_No\n",
       "0  Lagos  Data Science   Chris       Good      111\n",
       "1  Abuja            AI     Ayo  Excellent      109\n",
       "2  Lagos       Web Dev  Chisom       Poor      120"
      ]
     },
     "execution_count": 63,
     "metadata": {},
     "output_type": "execute_result"
    }
   ],
   "source": [
    "# Filter rows where City is either 'Lagos' or 'Abuja'\n",
    "hp_dell = bio_data2.query(\"City in ['Lagos', 'Abuja']\")\n",
    "print(\"Rows where City is either Lagos or Abuja:\")\n",
    "hp_dell\n"
   ]
  },
  {
   "cell_type": "markdown",
   "id": "56d9a836",
   "metadata": {},
   "source": [
    "Rows where PC_make is either HP or Dell:"
   ]
  },
  {
   "cell_type": "code",
   "execution_count": 64,
   "id": "5fd9ae1a",
   "metadata": {},
   "outputs": [
    {
     "name": "stdout",
     "output_type": "stream",
     "text": [
      "Students in the Cloud Computing track:\n"
     ]
    },
    {
     "data": {
      "text/html": [
       "<div>\n",
       "<style scoped>\n",
       "    .dataframe tbody tr th:only-of-type {\n",
       "        vertical-align: middle;\n",
       "    }\n",
       "\n",
       "    .dataframe tbody tr th {\n",
       "        vertical-align: top;\n",
       "    }\n",
       "\n",
       "    .dataframe thead th {\n",
       "        text-align: right;\n",
       "    }\n",
       "</style>\n",
       "<table border=\"1\" class=\"dataframe\">\n",
       "  <thead>\n",
       "    <tr style=\"text-align: right;\">\n",
       "      <th></th>\n",
       "      <th>City</th>\n",
       "      <th>Course_Track</th>\n",
       "      <th>Name</th>\n",
       "      <th>Feedback</th>\n",
       "      <th>Seat_No</th>\n",
       "    </tr>\n",
       "  </thead>\n",
       "  <tbody>\n",
       "  </tbody>\n",
       "</table>\n",
       "</div>"
      ],
      "text/plain": [
       "Empty DataFrame\n",
       "Columns: [City, Course_Track, Name, Feedback, Seat_No]\n",
       "Index: []"
      ]
     },
     "execution_count": 64,
     "metadata": {},
     "output_type": "execute_result"
    }
   ],
   "source": [
    "# Define a variable for the course track\n",
    "desired_track = 'Cloud Computing'\n",
    "\n",
    "# Use the variable in the query expression\n",
    "cloud_computing_students = bio_data2.query(\"Course_Track == @desired_track\")\n",
    "print(\"Students in the Cloud Computing track:\")\n",
    "cloud_computing_students\n"
   ]
  },
  {
   "cell_type": "markdown",
   "id": "ab0a72b3",
   "metadata": {},
   "source": [
    "Students in the Cloud Computing track:"
   ]
  },
  {
   "cell_type": "code",
   "execution_count": 65,
   "id": "f2657529",
   "metadata": {},
   "outputs": [
    {
     "name": "stdout",
     "output_type": "stream",
     "text": [
      "Students in Lagos with Feedback other than 'Poor':\n"
     ]
    },
    {
     "data": {
      "text/html": [
       "<div>\n",
       "<style scoped>\n",
       "    .dataframe tbody tr th:only-of-type {\n",
       "        vertical-align: middle;\n",
       "    }\n",
       "\n",
       "    .dataframe tbody tr th {\n",
       "        vertical-align: top;\n",
       "    }\n",
       "\n",
       "    .dataframe thead th {\n",
       "        text-align: right;\n",
       "    }\n",
       "</style>\n",
       "<table border=\"1\" class=\"dataframe\">\n",
       "  <thead>\n",
       "    <tr style=\"text-align: right;\">\n",
       "      <th></th>\n",
       "      <th>City</th>\n",
       "      <th>Course_Track</th>\n",
       "      <th>Name</th>\n",
       "      <th>Feedback</th>\n",
       "      <th>Seat_No</th>\n",
       "    </tr>\n",
       "  </thead>\n",
       "  <tbody>\n",
       "    <tr>\n",
       "      <th>0</th>\n",
       "      <td>Lagos</td>\n",
       "      <td>Data Science</td>\n",
       "      <td>Chris</td>\n",
       "      <td>Good</td>\n",
       "      <td>111</td>\n",
       "    </tr>\n",
       "  </tbody>\n",
       "</table>\n",
       "</div>"
      ],
      "text/plain": [
       "    City  Course_Track   Name Feedback  Seat_No\n",
       "0  Lagos  Data Science  Chris     Good      111"
      ]
     },
     "execution_count": 65,
     "metadata": {},
     "output_type": "execute_result"
    }
   ],
   "source": [
    "# Filter rows where Feedback is not 'Poor' and City is 'Lagos'\n",
    "good_feedback_lagos = bio_data2.query(\"Feedback != 'Poor' and City == 'Lagos'\")\n",
    "print(\"Students in Lagos with Feedback other than 'Poor':\")\n",
    "good_feedback_lagos"
   ]
  },
  {
   "cell_type": "markdown",
   "id": "ea71c259",
   "metadata": {},
   "source": [
    "Students in Lagos with Feedback other than 'Poor':"
   ]
  },
  {
   "cell_type": "code",
   "execution_count": 66,
   "id": "ca9530c4",
   "metadata": {},
   "outputs": [
    {
     "name": "stdout",
     "output_type": "stream",
     "text": [
      "Complex query result:\n"
     ]
    },
    {
     "data": {
      "text/html": [
       "<div>\n",
       "<style scoped>\n",
       "    .dataframe tbody tr th:only-of-type {\n",
       "        vertical-align: middle;\n",
       "    }\n",
       "\n",
       "    .dataframe tbody tr th {\n",
       "        vertical-align: top;\n",
       "    }\n",
       "\n",
       "    .dataframe thead th {\n",
       "        text-align: right;\n",
       "    }\n",
       "</style>\n",
       "<table border=\"1\" class=\"dataframe\">\n",
       "  <thead>\n",
       "    <tr style=\"text-align: right;\">\n",
       "      <th></th>\n",
       "      <th>City</th>\n",
       "      <th>Course_Track</th>\n",
       "      <th>Name</th>\n",
       "      <th>Feedback</th>\n",
       "      <th>Seat_No</th>\n",
       "    </tr>\n",
       "  </thead>\n",
       "  <tbody>\n",
       "    <tr>\n",
       "      <th>0</th>\n",
       "      <td>Lagos</td>\n",
       "      <td>Data Science</td>\n",
       "      <td>Chris</td>\n",
       "      <td>Good</td>\n",
       "      <td>111</td>\n",
       "    </tr>\n",
       "    <tr>\n",
       "      <th>1</th>\n",
       "      <td>Abuja</td>\n",
       "      <td>AI</td>\n",
       "      <td>Ayo</td>\n",
       "      <td>Excellent</td>\n",
       "      <td>109</td>\n",
       "    </tr>\n",
       "    <tr>\n",
       "      <th>3</th>\n",
       "      <td>Ibadan</td>\n",
       "      <td>Data Science</td>\n",
       "      <td>Tunde</td>\n",
       "      <td>Average</td>\n",
       "      <td>105</td>\n",
       "    </tr>\n",
       "  </tbody>\n",
       "</table>\n",
       "</div>"
      ],
      "text/plain": [
       "     City  Course_Track   Name   Feedback  Seat_No\n",
       "0   Lagos  Data Science  Chris       Good      111\n",
       "1   Abuja            AI    Ayo  Excellent      109\n",
       "3  Ibadan  Data Science  Tunde    Average      105"
      ]
     },
     "execution_count": 66,
     "metadata": {},
     "output_type": "execute_result"
    }
   ],
   "source": [
    "#LEts create a more complex query filter for Course_Track,Feedback and Seat_No\n",
    "complex_query = bio_data2.query(\"Course_Track == 'Data Science' or (Feedback == 'Excellent' and Seat_No < 115)\")\n",
    "print(\"Complex query result:\")\n",
    "complex_query\n"
   ]
  },
  {
   "cell_type": "markdown",
   "id": "b4358e45",
   "metadata": {},
   "source": [
    "***F. Data Transformation***"
   ]
  },
  {
   "cell_type": "markdown",
   "id": "57015430",
   "metadata": {},
   "source": [
    "Renaming Column Name"
   ]
  },
  {
   "cell_type": "code",
   "execution_count": 70,
   "id": "61892adb",
   "metadata": {},
   "outputs": [],
   "source": [
    "# Lets modify the column names by fixing the old names as keys and the new name as values\n",
    "# Use inplace=True to apply the changes to bio_data2\n",
    "bio_data2.rename(columns={'Course_Track': 'CourseTrack', 'Seat_No': 'SeatNo'}, inplace=True)\n",
    "\n",
    "# You can try renaming all the columns by removing all the underscores"
   ]
  },
  {
   "cell_type": "markdown",
   "id": "9c651420",
   "metadata": {},
   "source": [
    "Applying String Methods"
   ]
  },
  {
   "cell_type": "code",
   "execution_count": 72,
   "id": "4d1ba3d3",
   "metadata": {},
   "outputs": [],
   "source": [
    "# Lets apply some of the methods to our dataset\n",
    "bio_data2[\"Feedback\"] = bio_data2[\"Feedback\"].str.lower() # Here we are converting everything to small letters.\n"
   ]
  },
  {
   "cell_type": "code",
   "execution_count": 74,
   "id": "8dabb3db",
   "metadata": {},
   "outputs": [
    {
     "data": {
      "text/html": [
       "<div>\n",
       "<style scoped>\n",
       "    .dataframe tbody tr th:only-of-type {\n",
       "        vertical-align: middle;\n",
       "    }\n",
       "\n",
       "    .dataframe tbody tr th {\n",
       "        vertical-align: top;\n",
       "    }\n",
       "\n",
       "    .dataframe thead th {\n",
       "        text-align: right;\n",
       "    }\n",
       "</style>\n",
       "<table border=\"1\" class=\"dataframe\">\n",
       "  <thead>\n",
       "    <tr style=\"text-align: right;\">\n",
       "      <th></th>\n",
       "      <th>City</th>\n",
       "      <th>CourseTrack</th>\n",
       "      <th>Name</th>\n",
       "      <th>Feedback</th>\n",
       "      <th>SeatNo</th>\n",
       "      <th>PC_Os</th>\n",
       "    </tr>\n",
       "  </thead>\n",
       "  <tbody>\n",
       "    <tr>\n",
       "      <th>0</th>\n",
       "      <td>Lagos</td>\n",
       "      <td>Data Science</td>\n",
       "      <td>Chris</td>\n",
       "      <td>good</td>\n",
       "      <td>111</td>\n",
       "      <td>WINDOWS</td>\n",
       "    </tr>\n",
       "    <tr>\n",
       "      <th>1</th>\n",
       "      <td>Abuja</td>\n",
       "      <td>AI</td>\n",
       "      <td>Ayo</td>\n",
       "      <td>excellent</td>\n",
       "      <td>109</td>\n",
       "      <td>LINUX</td>\n",
       "    </tr>\n",
       "    <tr>\n",
       "      <th>2</th>\n",
       "      <td>Lagos</td>\n",
       "      <td>Web Dev</td>\n",
       "      <td>Chisom</td>\n",
       "      <td>poor</td>\n",
       "      <td>120</td>\n",
       "      <td>MACOS</td>\n",
       "    </tr>\n",
       "    <tr>\n",
       "      <th>3</th>\n",
       "      <td>Ibadan</td>\n",
       "      <td>Data Science</td>\n",
       "      <td>Tunde</td>\n",
       "      <td>average</td>\n",
       "      <td>105</td>\n",
       "      <td>WINDOWS</td>\n",
       "    </tr>\n",
       "  </tbody>\n",
       "</table>\n",
       "</div>"
      ],
      "text/plain": [
       "     City   CourseTrack    Name   Feedback  SeatNo    PC_Os\n",
       "0   Lagos  Data Science   Chris       good     111  WINDOWS\n",
       "1   Abuja            AI     Ayo  excellent     109    LINUX\n",
       "2   Lagos       Web Dev  Chisom       poor     120    MACOS\n",
       "3  Ibadan  Data Science   Tunde    average     105  WINDOWS"
      ]
     },
     "execution_count": 74,
     "metadata": {},
     "output_type": "execute_result"
    }
   ],
   "source": [
    "# Add a PC_Os column for demonstration if it doesn't exist\n",
    "if \"PC_Os\" not in bio_data2.columns:\n",
    "\tbio_data2[\"PC_Os\"] = [\"Windows\", \"Linux\", \"macOS\", \"Windows\"]\n",
    "\n",
    "# Convert the \"PC_Os\" column to upper case\n",
    "bio_data2[\"PC_Os\"] = bio_data2[\"PC_Os\"].str.upper()\n",
    "bio_data2.head()"
   ]
  },
  {
   "cell_type": "code",
   "execution_count": 76,
   "id": "6be371a4",
   "metadata": {},
   "outputs": [],
   "source": [
    "# Lets convert the \"Name\" column to title case\n",
    "bio_data2[\"Name\"] = bio_data2[\"Name\"].str.title() # Here we are converting the first letters to capital"
   ]
  },
  {
   "cell_type": "code",
   "execution_count": 78,
   "id": "4230ea94",
   "metadata": {},
   "outputs": [
    {
     "data": {
      "text/html": [
       "<div>\n",
       "<style scoped>\n",
       "    .dataframe tbody tr th:only-of-type {\n",
       "        vertical-align: middle;\n",
       "    }\n",
       "\n",
       "    .dataframe tbody tr th {\n",
       "        vertical-align: top;\n",
       "    }\n",
       "\n",
       "    .dataframe thead th {\n",
       "        text-align: right;\n",
       "    }\n",
       "</style>\n",
       "<table border=\"1\" class=\"dataframe\">\n",
       "  <thead>\n",
       "    <tr style=\"text-align: right;\">\n",
       "      <th></th>\n",
       "      <th>City</th>\n",
       "      <th>CourseTrack</th>\n",
       "      <th>Name</th>\n",
       "      <th>Feedback</th>\n",
       "      <th>SeatNo</th>\n",
       "      <th>PC_Os</th>\n",
       "    </tr>\n",
       "  </thead>\n",
       "  <tbody>\n",
       "    <tr>\n",
       "      <th>0</th>\n",
       "      <td>Lagos</td>\n",
       "      <td>Data Science</td>\n",
       "      <td>Chris</td>\n",
       "      <td>good</td>\n",
       "      <td>111</td>\n",
       "      <td>WINDOWS</td>\n",
       "    </tr>\n",
       "    <tr>\n",
       "      <th>1</th>\n",
       "      <td>Abuja</td>\n",
       "      <td>AI</td>\n",
       "      <td>Ayo</td>\n",
       "      <td>excellent</td>\n",
       "      <td>109</td>\n",
       "      <td>LINUX</td>\n",
       "    </tr>\n",
       "    <tr>\n",
       "      <th>2</th>\n",
       "      <td>Lagos</td>\n",
       "      <td>Web Dev</td>\n",
       "      <td>Chisom</td>\n",
       "      <td>poor</td>\n",
       "      <td>120</td>\n",
       "      <td>MACOS</td>\n",
       "    </tr>\n",
       "    <tr>\n",
       "      <th>3</th>\n",
       "      <td>Ibadan</td>\n",
       "      <td>Data Science</td>\n",
       "      <td>Tunde</td>\n",
       "      <td>average</td>\n",
       "      <td>105</td>\n",
       "      <td>WINDOWS</td>\n",
       "    </tr>\n",
       "  </tbody>\n",
       "</table>\n",
       "</div>"
      ],
      "text/plain": [
       "     City   CourseTrack    Name   Feedback  SeatNo    PC_Os\n",
       "0   Lagos  Data Science   Chris       good     111  WINDOWS\n",
       "1   Abuja            AI     Ayo  excellent     109    LINUX\n",
       "2   Lagos       Web Dev  Chisom       poor     120    MACOS\n",
       "3  Ibadan  Data Science   Tunde    average     105  WINDOWS"
      ]
     },
     "execution_count": 78,
     "metadata": {},
     "output_type": "execute_result"
    }
   ],
   "source": [
    "#LEts view to see if it has applied\n",
    "bio_data2.head()"
   ]
  },
  {
   "cell_type": "code",
   "execution_count": null,
   "id": "b3cfa399",
   "metadata": {},
   "outputs": [
    {
     "ename": "SyntaxError",
     "evalue": "invalid syntax (2748587307.py, line 6)",
     "output_type": "error",
     "traceback": [
      "  \u001b[36mCell\u001b[39m\u001b[36m \u001b[39m\u001b[32mIn[80]\u001b[39m\u001b[32m, line 6\u001b[39m\n\u001b[31m    \u001b[39m\u001b[31mbio_data2[col] bio_data2[col].apply(lambda x: x.str.title())\u001b[39m\n                   ^\n\u001b[31mSyntaxError\u001b[39m\u001b[31m:\u001b[39m invalid syntax\n"
     ]
    }
   ],
   "source": [
    "# LEts define a lambda function\n",
    "lambda x: x.str.title()\n",
    "\n",
    "# The .apply() method will help apply the function to the selected columns\n",
    "\n",
    "bio_data2[col] bio_data[col].apply(lambda x: x.str.title())"
   ]
  },
  {
   "cell_type": "code",
   "execution_count": 81,
   "id": "e6a36c8c",
   "metadata": {},
   "outputs": [
    {
     "data": {
      "text/html": [
       "<div>\n",
       "<style scoped>\n",
       "    .dataframe tbody tr th:only-of-type {\n",
       "        vertical-align: middle;\n",
       "    }\n",
       "\n",
       "    .dataframe tbody tr th {\n",
       "        vertical-align: top;\n",
       "    }\n",
       "\n",
       "    .dataframe thead th {\n",
       "        text-align: right;\n",
       "    }\n",
       "</style>\n",
       "<table border=\"1\" class=\"dataframe\">\n",
       "  <thead>\n",
       "    <tr style=\"text-align: right;\">\n",
       "      <th></th>\n",
       "      <th>City</th>\n",
       "      <th>CourseTrack</th>\n",
       "      <th>Name</th>\n",
       "      <th>Feedback</th>\n",
       "      <th>SeatNo</th>\n",
       "      <th>PC_Os</th>\n",
       "    </tr>\n",
       "  </thead>\n",
       "  <tbody>\n",
       "    <tr>\n",
       "      <th>0</th>\n",
       "      <td>Lagos</td>\n",
       "      <td>Data Science</td>\n",
       "      <td>Chris</td>\n",
       "      <td>good</td>\n",
       "      <td>111</td>\n",
       "      <td>WINDOWS</td>\n",
       "    </tr>\n",
       "    <tr>\n",
       "      <th>1</th>\n",
       "      <td>Abuja</td>\n",
       "      <td>AI</td>\n",
       "      <td>Ayo</td>\n",
       "      <td>excellent</td>\n",
       "      <td>109</td>\n",
       "      <td>LINUX</td>\n",
       "    </tr>\n",
       "    <tr>\n",
       "      <th>2</th>\n",
       "      <td>Lagos</td>\n",
       "      <td>Web Dev</td>\n",
       "      <td>Chisom</td>\n",
       "      <td>poor</td>\n",
       "      <td>120</td>\n",
       "      <td>MACOS</td>\n",
       "    </tr>\n",
       "    <tr>\n",
       "      <th>3</th>\n",
       "      <td>Ibadan</td>\n",
       "      <td>Data Science</td>\n",
       "      <td>Tunde</td>\n",
       "      <td>average</td>\n",
       "      <td>105</td>\n",
       "      <td>WINDOWS</td>\n",
       "    </tr>\n",
       "  </tbody>\n",
       "</table>\n",
       "</div>"
      ],
      "text/plain": [
       "     City   CourseTrack    Name   Feedback  SeatNo    PC_Os\n",
       "0   Lagos  Data Science   Chris       good     111  WINDOWS\n",
       "1   Abuja            AI     Ayo  excellent     109    LINUX\n",
       "2   Lagos       Web Dev  Chisom       poor     120    MACOS\n",
       "3  Ibadan  Data Science   Tunde    average     105  WINDOWS"
      ]
     },
     "execution_count": 81,
     "metadata": {},
     "output_type": "execute_result"
    }
   ],
   "source": [
    "#LEts view to see if it has applied\n",
    "bio_data2.head()"
   ]
  },
  {
   "cell_type": "code",
   "execution_count": null,
   "id": "6841f981",
   "metadata": {},
   "outputs": [
    {
     "ename": "NameError",
     "evalue": "name 'bio_data' is not defined",
     "output_type": "error",
     "traceback": [
      "\u001b[31m---------------------------------------------------------------------------\u001b[39m",
      "\u001b[31mNameError\u001b[39m                                 Traceback (most recent call last)",
      "\u001b[36mCell\u001b[39m\u001b[36m \u001b[39m\u001b[32mIn[91]\u001b[39m\u001b[32m, line 2\u001b[39m\n\u001b[32m      1\u001b[39m \u001b[38;5;66;03m# We can decide to apply the lambda funtion to every element in the dataset\u001b[39;00m\n\u001b[32m----> \u001b[39m\u001b[32m2\u001b[39m \u001b[43mbio_data\u001b[49m.applymap(\u001b[38;5;28;01mlambda\u001b[39;00m x: x.str.title())\n\u001b[32m      3\u001b[39m bio_data.head()\n",
      "\u001b[31mNameError\u001b[39m: name 'bio_data' is not defined"
     ]
    }
   ],
   "source": [
    "# We can decide to apply the lambda funtion to every element in the dataset\n",
    "bio_data.applymap(lambda x: x.str.title())\n",
    "bio_data.head()"
   ]
  }
 ],
 "metadata": {
  "kernelspec": {
   "display_name": "data_and_data_analysis",
   "language": "python",
   "name": "python3"
  },
  "language_info": {
   "codemirror_mode": {
    "name": "ipython",
    "version": 3
   },
   "file_extension": ".py",
   "mimetype": "text/x-python",
   "name": "python",
   "nbconvert_exporter": "python",
   "pygments_lexer": "ipython3",
   "version": "3.13.7"
  }
 },
 "nbformat": 4,
 "nbformat_minor": 5
}
