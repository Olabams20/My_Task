{
 "cells": [
  {
   "cell_type": "markdown",
   "id": "b556f133",
   "metadata": {},
   "source": [
    "***Question 1***"
   ]
  },
  {
   "cell_type": "code",
   "execution_count": 51,
   "id": "1bf3d96d",
   "metadata": {},
   "outputs": [
    {
     "name": "stdout",
     "output_type": "stream",
     "text": [
      "[[ 3 24 14 34  6 17]\n",
      " [ 6  8  9 47 13 30]\n",
      " [13 31 14 17 30 29]\n",
      " [ 8  7 22 27 37  4]\n",
      " [ 3 10 42 45 16 36]\n",
      " [42 21 32  1 26 42]]\n"
     ]
    }
   ],
   "source": [
    "import numpy as np\n",
    "\n",
    "array = np.random.randint(1, 50, size=(6, 6))\n",
    "print(array)\n"
   ]
  },
  {
   "cell_type": "markdown",
   "id": "c84523fb",
   "metadata": {},
   "source": [
    "***Question 2***"
   ]
  },
  {
   "cell_type": "code",
   "execution_count": 52,
   "id": "e4ad8ff1",
   "metadata": {},
   "outputs": [
    {
     "name": "stdout",
     "output_type": "stream",
     "text": [
      "Original Array:\n",
      " [[ 3 24 14 34  6 17]\n",
      " [ 6  8  9 47 13 30]\n",
      " [13 31 14 17 30 29]\n",
      " [ 8  7 22 27 37  4]\n",
      " [ 3 10 42 45 16 36]\n",
      " [42 21 32  1 26 42]]\n",
      "\n",
      "First two rows:\n",
      " [[ 3 24 14 34  6 17]\n",
      " [ 6  8  9 47 13 30]]\n",
      "\n",
      "Last three columns:\n",
      " [[34  6 17]\n",
      " [47 13 30]\n",
      " [17 30 29]\n",
      " [27 37  4]\n",
      " [45 16 36]\n",
      " [ 1 26 42]]\n",
      "\n",
      "Even numbers:\n",
      " [24 14 34  6  6  8 30 14 30  8 22  4 10 42 16 36 42 32 26 42]\n"
     ]
    }
   ],
   "source": [
    "# import numpy as np\n",
    "\n",
    "# array= np.random.randint(1, 51, (6, 6))\n",
    "print(\"Original Array:\\n\", array)\n",
    "\n",
    "print(\"\\nFirst two rows:\\n\", array[:2])\n",
    "\n",
    "print(\"\\nLast three columns:\\n\", array[:, 3:])\n",
    "\n",
    "print(\"\\nEven numbers:\\n\", array[array % 2 == 0])\n"
   ]
  },
  {
   "cell_type": "markdown",
   "id": "49417827",
   "metadata": {},
   "source": [
    "***Question 3***"
   ]
  },
  {
   "cell_type": "code",
   "execution_count": null,
   "id": "8cd71944",
   "metadata": {},
   "outputs": [
    {
     "name": "stdout",
     "output_type": "stream",
     "text": [
      "Reshaped array:\n",
      " [[[ 0  1  2  3  4  5]\n",
      "  [ 6  7  8  9 10 11]]\n",
      "\n",
      " [[12 13 14 15 16 17]\n",
      "  [18 19 20 21 22 23]]\n",
      "\n",
      " [[24 25 26 27 28 29]\n",
      "  [30 31 32 33 34 35]]]\n",
      "\n",
      "Flattened array:\n",
      " [ 0  1  2  3  4  5  6  7  8  9 10 11 12 13 14 15 16 17 18 19 20 21 22 23\n",
      " 24 25 26 27 28 29 30 31 32 33 34 35]\n"
     ]
    }
   ],
   "source": [
    "array = np.arange(36)\n",
    "\n",
    "reshaped = array.reshape(3, 2, 6)\n",
    "\n",
    "flattened = reshaped.flatten()\n",
    "\n",
    "print(\"Reshaped array:\\n\", reshaped)\n",
    "print(\"\\nFlattened array:\\n\", flattened)\n",
    "\n"
   ]
  },
  {
   "cell_type": "markdown",
   "id": "178f91f8",
   "metadata": {},
   "source": [
    "***Question 4***"
   ]
  },
  {
   "cell_type": "code",
   "execution_count": 1,
   "id": "a107c140",
   "metadata": {},
   "outputs": [
    {
     "name": "stdout",
     "output_type": "stream",
     "text": [
      "Modified 4x4 Matrix:\n",
      "[[10  0  0  0]\n",
      " [ 0 20  0  0]\n",
      " [ 0  0 30  0]\n",
      " [ 0  0  0 40]]\n"
     ]
    }
   ],
   "source": [
    "import numpy as np\n",
    "# Generate 4x4 identity matrix\n",
    "matrix = np.identity(4, dtype=int)\n",
    "# Replace diagonal with [10, 20, 30, 40]\n",
    "matrix[np.arange(4), np.arange(4)] = np.arange(10, 41, 10)\n",
    "print(\"Modified 4x4 Matrix:\")\n",
    "print(matrix)"
   ]
  },
  {
   "cell_type": "markdown",
   "id": "97e97e3d",
   "metadata": {},
   "source": [
    "***Question 5***"
   ]
  },
  {
   "cell_type": "code",
   "execution_count": 2,
   "id": "8333a494",
   "metadata": {},
   "outputs": [
    {
     "name": "stdout",
     "output_type": "stream",
     "text": [
      "Matrix A (3x4):\n",
      "[[ 4  8  2  1]\n",
      " [10  2  1  9]\n",
      " [ 1  5  9  7]]\n",
      "\n",
      "Matrix B (4x3):\n",
      "[[ 4 10  9]\n",
      " [ 4  9  5]\n",
      " [ 3  1  2]\n",
      " [ 2  1  4]]\n",
      "\n",
      "Resultant Matrix C (3x3):\n",
      "[[ 56 115  84]\n",
      " [ 69 128 138]\n",
      " [ 65  71  80]]\n"
     ]
    }
   ],
   "source": [
    "# Generate random 3x4 and 4x3 matrices with integers 1–10\n",
    "A = np.random.randint(1, 11, size=(3, 4))\n",
    "B = np.random.randint(1, 11, size=(4, 3))\n",
    "# Perform matrix multiplication\n",
    "C = np.dot(A, B)\n",
    "print(\"Matrix A (3x4):\")\n",
    "print(A)\n",
    "print(\"\\nMatrix B (4x3):\")\n",
    "print(B)\n",
    "print(\"\\nResultant Matrix C (3x3):\")\n",
    "print(C)\n",
    "\n",
    "\n",
    "\n",
    "\n",
    "\n",
    "\n"
   ]
  },
  {
   "cell_type": "markdown",
   "id": "32fd23a7",
   "metadata": {},
   "source": [
    "***Question 6***"
   ]
  },
  {
   "cell_type": "code",
   "execution_count": 3,
   "id": "afc9b7c1",
   "metadata": {},
   "outputs": [
    {
     "name": "stdout",
     "output_type": "stream",
     "text": [
      "[[-1  4 -1]\n",
      " [16 -1 36]]\n"
     ]
    }
   ],
   "source": [
    "import numpy as np\n",
    "\n",
    "def transform_array(arr):\n",
    "    # Create a copy to avoid modifying the original array\n",
    "    result = np.copy(arr)\n",
    "    \n",
    "    # Apply transformation: square even numbers, replace odd numbers with -1\n",
    "    even_mask = (result % 2 == 0)\n",
    "    odd_mask = ~even_mask\n",
    "    \n",
    "    result[even_mask] = result[even_mask] ** 2\n",
    "    result[odd_mask] = -1\n",
    "    \n",
    "    return result\n",
    "\n",
    "arr = np.array([[1, 2, 3], [4, 5, 6]])\n",
    "print(transform_array(arr))\n"
   ]
  }
 ],
 "metadata": {
  "kernelspec": {
   "display_name": "data_and_data_analysis",
   "language": "python",
   "name": "python3"
  },
  "language_info": {
   "codemirror_mode": {
    "name": "ipython",
    "version": 3
   },
   "file_extension": ".py",
   "mimetype": "text/x-python",
   "name": "python",
   "nbconvert_exporter": "python",
   "pygments_lexer": "ipython3",
   "version": "3.13.7"
  }
 },
 "nbformat": 4,
 "nbformat_minor": 5
}
