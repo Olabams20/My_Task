{
 "cells": [
  {
   "cell_type": "markdown",
   "id": "b556f133",
   "metadata": {},
   "source": [
    "***Question 1***"
   ]
  },
  {
   "cell_type": "code",
   "execution_count": 51,
   "id": "1bf3d96d",
   "metadata": {},
   "outputs": [
    {
     "name": "stdout",
     "output_type": "stream",
     "text": [
      "[[ 3 24 14 34  6 17]\n",
      " [ 6  8  9 47 13 30]\n",
      " [13 31 14 17 30 29]\n",
      " [ 8  7 22 27 37  4]\n",
      " [ 3 10 42 45 16 36]\n",
      " [42 21 32  1 26 42]]\n"
     ]
    }
   ],
   "source": [
    "import numpy as np\n",
    "\n",
    "array = np.random.randint(1, 50, size=(6, 6))\n",
    "print(array)\n"
   ]
  },
  {
   "cell_type": "markdown",
   "id": "c84523fb",
   "metadata": {},
   "source": [
    "***Question 2***"
   ]
  },
  {
   "cell_type": "code",
   "execution_count": 52,
   "id": "e4ad8ff1",
   "metadata": {},
   "outputs": [
    {
     "name": "stdout",
     "output_type": "stream",
     "text": [
      "Original Array:\n",
      " [[ 3 24 14 34  6 17]\n",
      " [ 6  8  9 47 13 30]\n",
      " [13 31 14 17 30 29]\n",
      " [ 8  7 22 27 37  4]\n",
      " [ 3 10 42 45 16 36]\n",
      " [42 21 32  1 26 42]]\n",
      "\n",
      "First two rows:\n",
      " [[ 3 24 14 34  6 17]\n",
      " [ 6  8  9 47 13 30]]\n",
      "\n",
      "Last three columns:\n",
      " [[34  6 17]\n",
      " [47 13 30]\n",
      " [17 30 29]\n",
      " [27 37  4]\n",
      " [45 16 36]\n",
      " [ 1 26 42]]\n",
      "\n",
      "Even numbers:\n",
      " [24 14 34  6  6  8 30 14 30  8 22  4 10 42 16 36 42 32 26 42]\n"
     ]
    }
   ],
   "source": [
    "# import numpy as np\n",
    "\n",
    "# array= np.random.randint(1, 51, (6, 6))\n",
    "print(\"Original Array:\\n\", array)\n",
    "\n",
    "print(\"\\nFirst two rows:\\n\", array[:2])\n",
    "\n",
    "print(\"\\nLast three columns:\\n\", array[:, 3:])\n",
    "\n",
    "print(\"\\nEven numbers:\\n\", array[array % 2 == 0])\n"
   ]
  },
  {
   "cell_type": "markdown",
   "id": "49417827",
   "metadata": {},
   "source": [
    "***Question 3***"
   ]
  },
  {
   "cell_type": "code",
   "execution_count": null,
   "id": "8cd71944",
   "metadata": {},
   "outputs": [
    {
     "name": "stdout",
     "output_type": "stream",
     "text": [
      "Reshaped array:\n",
      " [[[ 0  1  2  3  4  5]\n",
      "  [ 6  7  8  9 10 11]]\n",
      "\n",
      " [[12 13 14 15 16 17]\n",
      "  [18 19 20 21 22 23]]\n",
      "\n",
      " [[24 25 26 27 28 29]\n",
      "  [30 31 32 33 34 35]]]\n",
      "\n",
      "Flattened array:\n",
      " [ 0  1  2  3  4  5  6  7  8  9 10 11 12 13 14 15 16 17 18 19 20 21 22 23\n",
      " 24 25 26 27 28 29 30 31 32 33 34 35]\n"
     ]
    }
   ],
   "source": [
    "array = np.arange(36)\n",
    "\n",
    "reshaped = array.reshape(3, 2, 6)\n",
    "\n",
    "flattened = reshaped.flatten()\n",
    "\n",
    "print(\"Reshaped array:\\n\", reshaped)\n",
    "print(\"\\nFlattened array:\\n\", flattened)\n",
    "\n"
   ]
  },
  {
   "cell_type": "markdown",
   "id": "178f91f8",
   "metadata": {},
   "source": [
    "***Question 4***"
   ]
  }
 ],
 "metadata": {
  "kernelspec": {
   "display_name": "data_and_data_analysis",
   "language": "python",
   "name": "python3"
  },
  "language_info": {
   "codemirror_mode": {
    "name": "ipython",
    "version": 3
   },
   "file_extension": ".py",
   "mimetype": "text/x-python",
   "name": "python",
   "nbconvert_exporter": "python",
   "pygments_lexer": "ipython3",
   "version": "3.13.7"
  }
 },
 "nbformat": 4,
 "nbformat_minor": 5
}
